{
  "nbformat": 4,
  "nbformat_minor": 0,
  "metadata": {
    "colab": {
      "provenance": []
    },
    "kernelspec": {
      "name": "python3",
      "display_name": "Python 3"
    },
    "language_info": {
      "name": "python"
    }
  },
  "cells": [
    {
      "cell_type": "markdown",
      "source": [
        "# Python OOPs Assignment"
      ],
      "metadata": {
        "id": "07ws7T4cONor"
      }
    },
    {
      "cell_type": "markdown",
      "source": [
        "1. What is Object-Oriented Programming (OOP)?\n",
        "- Object-Oriented Programming (OOP) is a programming paradigm (style of programming) based on the concept of \"objects\", which represent real-world entities. Object contains, Attributes (data/properties): The characteristics or state of the object and Methods (functions/behavior): The actions the object can perform.\n",
        "- Features of OOPs are Encapsulation, abstraction, inheritance, polymorphism."
      ],
      "metadata": {
        "id": "SxaLs9QbOpPo"
      }
    },
    {
      "cell_type": "markdown",
      "source": [
        "2. What is a class in OOP?\n",
        "- The class is a user-defined data structure that combines the methods and data members into a single\n",
        "entity. For the production of objects, classes serve as blueprints or code templates. You can make as many\n",
        "objects as you desire using a class.\n"
      ],
      "metadata": {
        "id": "e-eHAsvaQmB4"
      }
    },
    {
      "cell_type": "markdown",
      "source": [
        "3. What is an object in OOP?\n",
        "- An instance of a class is an object. It consists of a set of methods and attributes. Actions are carried\n",
        "out using a class's object. Objects have two qualities: They exhibit states and actions. (The object is equipped\n",
        "with properties and methods) Methods represent its behaviour, while attributes represent its state. We can alter\n",
        "its status by using its techniques."
      ],
      "metadata": {
        "id": "aTjFWcVcRmTq"
      }
    },
    {
      "cell_type": "markdown",
      "source": [
        "4. What is the difference between abstraction and encapsulation?\n",
        "- Abstraction in python : In Python, abstraction is a key idea in object-oriented programming (OOP) that allows you to describe complicated systems by hiding unneeded details and exposing just essential aspects.\n",
        "It aids in the management of programme complexity by breaking it down into smaller, more manageable sections. Classes and objects are used to accomplish abstraction. A class is a blueprint for constructing objects, whereas an object is a class instance. The class defines the properties (attributes) and behaviours (methods) of the class's objects.Abstraction allows you to construct abstract classes and methods that give a high-level interface without providing the implementation specifics. Abstract classes cannot be instantiated and must be subclassed. They may contain abstract methods that are declared but not implemented in the abstract class itself. Subclasses are in charge of implementing these abstract methods.\n",
        "- Encapsulation in Python : Encapsulation is a Python technique for combining data and functions into a single object. A class, for instance, contains all the data (methods and variables). Encapsulation refers to the\n",
        "broad concealment of an object's internal representation from areas outside of its specification. Assume, for instance, that you combine methods that provide read or write access with an attribute that is\n",
        "hidden from view on the exterior of an object. Then, you may limit who has access to the object's internal state and hide particular pieces of information. Without giving the program complete access to all of a\n",
        "class's variables, encapsulation provides a mechanism for us to obtain the necessary variable. This method is used to shield an object's data from other objects."
      ],
      "metadata": {
        "id": "sX0gKunRSQ4C"
      }
    },
    {
      "cell_type": "markdown",
      "source": [
        "5. What are dunder methods in Python?\n",
        "- Dunder methods, also known as magic methods or special methods, in Python are special reserved methods\n",
        "that are surrounded by double underscores (i.e., __method__). These methods allow you to define how\n",
        "instances of your classes behave when they are used with built-in Python functions or operators. Understanding\n",
        "dunder methods is crucial for creating custom objects that behave like built-in types or implementing operator\n",
        "overloading in Python. Here's a detailed explanation of some commonly used dunder methods:\n",
        "- __init__(self, ...): This method is called when an instance of the class is initialized. It is used to initialize\n",
        "instance variables and perform any setup required for the object.\n",
        "- __str__(self): This method is called when the str() function is used on an instance of the class. It should\n",
        "return a string representation of the object.\n",
        "- __repr__(self): This method is called when the repr() function is used on an instance of the class. It\n",
        "should return an unambiguous string representation of the object, which can be used to recreate the\n",
        "object."
      ],
      "metadata": {
        "id": "vm82RKKcTGsw"
      }
    },
    {
      "cell_type": "markdown",
      "source": [
        "6. Explain the concept of inheritance in OOP?\n",
        "- Inheritance play a significant role in object oriented programming language. Inhweritace in python refers to the process of a child receiving the parent's class property. The reuse of code is inheritance's main goal. Instead of starting from scratch when developing a new class, we can use existing class instead of recreating it from scratch. There are differnt types of inheritance are single inheritance, multiple inheritance, multilevel inheritance, heirarchical inheritance, hybrid inheritance."
      ],
      "metadata": {
        "id": "X8xFduGXTvhv"
      }
    },
    {
      "cell_type": "markdown",
      "source": [
        "7. What is polymorphism in OOP?\n",
        "- Polymorphism in Python: In OOP, polymorphism refers to an object's capacity to assume several forms.\n",
        "Simply said, polymorphism enables us to carry out a single activity in a variety of ways. From the Greek words poly (many) and morphism (forms), we get polymorphism. Polymorphism is the\n",
        "capacity to assume several shapes.\n",
        "- Inheritance is the primary application of polymorphism. The traits and methods of a parent class are passed\n",
        "down to a child class through inheritance. A subclass, child class, or derived class is a new class that is\n",
        "created from an existing class, which is referred to as a base class or parent class. Method overriding polymorphism enables us to define child class methods with the same names as parent\n",
        "class methods. The act of overriding an inherited method in a child class is referred to as method overriding.\n"
      ],
      "metadata": {
        "id": "Q7sqSe37Y3IN"
      }
    },
    {
      "cell_type": "markdown",
      "source": [
        "8. How is encapsulation achieved in Python?\n",
        "- A class's data members and methods can be made private or protected in\n",
        "order to achieve encapsulation. Direct access modifiers like public, private, and protected don't exist in Python, though. Single and double underscores can be used to accomplish this. Modifiers for access control restrict use of a class's variables and methods. Private, public, and protected are the three different access modifier types that Python offers.\n",
        "- Public Member : Both inside and outside of a class, public data members are accessible. By default, the class's member variables are all public.\n",
        "- Private Member : By designating class variables as private, we may protect them. Add two underscores as\n",
        "a prefix to the beginning of a variable name to define it as a private variable.\n",
        "Private members can only be accessed within the class; they are not directly available from class objects.\n",
        "We can access private members from outside of a class using the following two approaches first Create a public method to access private members of a class\n",
        "and second By using name mangling.\n",
        "- Protected Member : Within the class and to its sub-classes, protected members can be accessed. Add a\n",
        "single underscore (_) before the member name to define it as a protected member.\n",
        "When you implement inheritance and wish to restrict access to data members to just child classes, you use\n",
        "protected data members."
      ],
      "metadata": {
        "id": "x4nmtnRZZq1q"
      }
    },
    {
      "cell_type": "markdown",
      "source": [
        "9. What is a constructor in Python?\n",
        "- In Python, a constructor is a special method used to initialize an object when it is created from a class. The constructor method in Python is always named __init__(). It is automatically called when you create an object and Used to assign initial values to object attributes. The first parameter is always self (a reference to the current object). You can define additional parameters to pass values while creating an object."
      ],
      "metadata": {
        "id": "z8PMGG5vcbln"
      }
    },
    {
      "cell_type": "markdown",
      "source": [
        "10. What are class and static methods in Python?\n",
        "- Class methods: Classs methods are methods that are bound to the class and not the instance of the class. They can access or modify class state that applies across all instances of the class. Class methods are defined using the @classmethod decorator. Class methods are associated with the class rather than a specific instance. They operate on class-level data that applies to all instances of the class. Class methods can access and modify class variables, which are shared by all instances of the class. This makes them useful for tasks that involve manipulating shared data. Class methods are often used to create utility functions that perform operations related to the class but don't depend on specific instance data.\n",
        "- Static methods: static methods are methods that belong to the class and don't access or modify class or instance state. They\n",
        "are defined using the @staticmethod decorator. Static methods don't have access to class or instance variables; they work with the parameters passed to\n",
        "them."
      ],
      "metadata": {
        "id": "GwVDU5mvdWEJ"
      }
    },
    {
      "cell_type": "markdown",
      "source": [
        "11. What is method overloading in Python?\n",
        "- Method overloading is the practice of invoking the same method more than\n",
        "once with different parameters. Method overloading is not supported by Python. Even if you overload the method, Python only takes into account the most recent definition. If you overload a method in Python, a type error will be raised."
      ],
      "metadata": {
        "id": "Wqj4eeMpeZMR"
      }
    },
    {
      "cell_type": "code",
      "source": [
        "def mul(x,y):\n",
        "  z = x*y\n",
        "  print(z)\n",
        "def mul(x,y,z):\n",
        "  s = x*y*z\n",
        "  print(\"output: \",s)\n",
        "#mul( 2,5 ) #error\n",
        "mul(3,6,3)"
      ],
      "metadata": {
        "colab": {
          "base_uri": "https://localhost:8080/"
        },
        "id": "zOMCf7DMoSiq",
        "outputId": "7ca0f5a7-495f-4f2b-ae19-a6454b325911"
      },
      "execution_count": null,
      "outputs": [
        {
          "output_type": "stream",
          "name": "stdout",
          "text": [
            "output:  54\n"
          ]
        }
      ]
    },
    {
      "cell_type": "markdown",
      "source": [
        "12. What is method overriding in OOP?\n",
        "- In Python, method overriding is the process of providing a different\n",
        "implementation for a method that is already defined in the superclass within a subclass. It enables the subclass to define its own version of a method with the same name and parameters as the method in the superclass. When a method is overridden, the subclass implements the method in its own way, which overrides the behaviour defined in the superclass. The subclass can then alter or expand the functionality of the inherited method.\n",
        "- The name, parameters, and return type of the overridden method in the subclass must match those of the method in the superclass. Method overriding occurs only when the subclass has a method with the same\n",
        "name and signature as the superclass method. When a subclass object is used to call the overridden method during runtime, the subclass implementation is\n",
        "invoked rather than the superclass implementation. A crucial element of polymorphism is the dynamic dispatch of methods based on the actual object type."
      ],
      "metadata": {
        "id": "e4ks53v3noDP"
      }
    },
    {
      "cell_type": "code",
      "source": [
        "class Animal:\n",
        "    def speak(self):\n",
        "        print(\"Generic animal sound\")\n",
        "\n",
        "class Dog(Animal):\n",
        "    def speak(self):\n",
        "        print(\"Bark!\")\n",
        "\n",
        "# Create instances of the classes\n",
        "animal =Dog()\n",
        "dog = Dog()\n",
        "\n",
        "# Call the speak() method on the instances\n",
        "animal.speak()\n",
        "dog.speak()"
      ],
      "metadata": {
        "id": "EjCephU4p99l"
      },
      "execution_count": null,
      "outputs": []
    },
    {
      "cell_type": "markdown",
      "source": [
        "13. What is a property decorator in Python?\n",
        "- Getter Method - @property:  @property decorator allows you to define a method (radius) that behaves like an attribute. So when you access circle.radius, it internally calls the radius method and returns the value.\n",
        "- Setter Method - @<property_name>.setter : @var.setter decorator allows you to define a method  that will be called when you try to assign a value to object.variable. It ensures that the new value meets certain criteria (in this case, it must be positive).\n",
        "- Deleter Method - @<property_name>.deleter :@method.deleter decorator allows you to define a method (method) that will be called when you try to\n",
        "delete method.radius. In this example, it deletes the method attribute."
      ],
      "metadata": {
        "id": "01U4RJEPqON4"
      }
    },
    {
      "cell_type": "markdown",
      "source": [
        "14. Why is polymorphism important in OOP?\n",
        "- Because In OOP, polymorphism refers to an object's capacity to assume several forms. Simply said, polymorphism enables us to carry out a single activity in a variety of ways. Polymorphism is one of the core pillars of Object-Oriented Programming (OOP), along with encapsulation, inheritance, and abstraction. Its importance comes from the flexibility and scalability it brings to code. Polymorphism means “many forms”. In OOP, it allows objects of different classes to be treated through the same interface. Polymorphism allows you to focus on what an object does, not how it does it."
      ],
      "metadata": {
        "id": "Ua_wh9_hsJTx"
      }
    },
    {
      "cell_type": "markdown",
      "source": [
        "15. What is an abstract class in Python?\n",
        "- To declare an Abstract class, we firstly need to import the abc module . An abstract class in Python is a class that cannot be instantiated directly and is meant to be a blueprint for other classes. It can contain abstract methods, which are methods declared but not implemented in the abstract class. The subclasses must implement these abstract methods.Cannot create an object of an abstract class. Can have both abstract methods (without implementation) and regular methods (with implementation). Forces child classes to implement abstract methods, ensuring a consistent interface."
      ],
      "metadata": {
        "id": "Szv7-Uf2slHg"
      }
    },
    {
      "cell_type": "code",
      "source": [
        "# syntax of abstract class\n",
        "from abc import ABC, abstractmethod\n",
        "class abs_class(ABC):\n",
        "    # Normal Method\n",
        "\n",
        "    def method(self):\n",
        "       # Method definition\n",
        "\n",
        "@abstractmethod\n",
        "def Abs_method(self):\n",
        "    # Method definition\n",
        "# Here, method() is a normal method whereas Abs_method() is an abstract method implementing @abstractmethod from the abc module.\n"
      ],
      "metadata": {
        "colab": {
          "base_uri": "https://localhost:8080/",
          "height": 111
        },
        "id": "Y4fzAuD8uAcQ",
        "outputId": "5f472723-6240-4872-83be-cd51aafb2c28"
      },
      "execution_count": 5,
      "outputs": [
        {
          "output_type": "error",
          "ename": "IndentationError",
          "evalue": "expected an indented block after function definition on line 5 (ipython-input-3832281139.py, line 8)",
          "traceback": [
            "\u001b[0;36m  File \u001b[0;32m\"/tmp/ipython-input-3832281139.py\"\u001b[0;36m, line \u001b[0;32m8\u001b[0m\n\u001b[0;31m    @abstractmethod\u001b[0m\n\u001b[0m                   ^\u001b[0m\n\u001b[0;31mIndentationError\u001b[0m\u001b[0;31m:\u001b[0m expected an indented block after function definition on line 5\n"
          ]
        }
      ]
    },
    {
      "cell_type": "markdown",
      "source": [
        "16. What are the advantages of OOP?\n",
        "- Encapsulation: It Wrapping data (attributes) and methods (functions) together in a single unit (class). It protects the internal state of objects from unintended interference. Provides controlled access via methods (getters/setters).\n",
        "Example: Bank account balance can only be modified via deposit() or withdraw().\n",
        "- Inheritance: A class can inherit properties and methods from another class.Promotes code reusability. Avoids rewriting common functionality.\n",
        "Example: Car and Bike classes inherit from Vehicle class.\n",
        "- Polymorphism: Objects of different classes can be treated through the same interface; same method name can behave differently. Simplifies code and makes it more flexible. Allows adding new classes without changing existing code.\n",
        "Example: start() method works differently for Car, Bike, and Truck.\n",
        "- Abstraction: Hiding internal details and showing only functionality to the user. Focuses on what an object does, not how it does it. Makes code easier to understand and maintain.\n",
        "Example: User calls withdraw() on a bank account without knowing the internal calculations.\n"
      ],
      "metadata": {
        "id": "9wUrcpwXvNLb"
      }
    },
    {
      "cell_type": "markdown",
      "source": [
        "17. What is the difference between a class variable and an instance variable?\n",
        "- Instance Variable: A variable that is unique to each object (instance) of a class. Declared in Inside the constructor (__init__) or methods using self.\n",
        "Belongs to the specific object. Changing it for one object does not affect other objects.\n",
        "- Class Variable: A variable that is shared by all instances of a class .Declared in Inside the class, outside any method. Belongs to the class itself.\n",
        " Changing it affects all objects that refer to it (unless overridden in an instance)."
      ],
      "metadata": {
        "id": "vB-c1n__xx3N"
      }
    },
    {
      "cell_type": "code",
      "source": [
        "class Student:\n",
        "    school = \"ABC High School\"  # class variable\n",
        "\n",
        "    def __init__(self, name):\n",
        "        self.name = name  # instance variable\n",
        "\n",
        "# Create objects\n",
        "s1 = Student(\"Alice\")\n",
        "s2 = Student(\"Bob\")\n",
        "\n",
        "# Access instance variables\n",
        "print(s1.name)  # Alice\n",
        "print(s2.name)  # Bob\n",
        "\n",
        "# Access class variable\n",
        "print(s1.school)  # ABC High School\n",
        "print(s2.school)  # ABC High School\n",
        "\n"
      ],
      "metadata": {
        "colab": {
          "base_uri": "https://localhost:8080/"
        },
        "id": "90OzhHmeyi-A",
        "outputId": "1ee41989-8851-4b13-a963-4edc07b8f5e5"
      },
      "execution_count": 6,
      "outputs": [
        {
          "output_type": "stream",
          "name": "stdout",
          "text": [
            "Alice\n",
            "Bob\n",
            "ABC High School\n",
            "ABC High School\n",
            "XYZ High School\n",
            "XYZ High School\n",
            "Charlie\n",
            "Bob\n"
          ]
        }
      ]
    },
    {
      "cell_type": "markdown",
      "source": [
        "18. What is multiple inheritance in Python?\n",
        "- One child class may inherit from several parent classes when there is multiple inheritance. Multiple inheritance allows classes to inherit and combine the behavior of multiple parent classes, providing flexibility in designing complex class hierarchies. However, it’s important to carefully consider the design and potential complexities that can arise when using multiple inheritance."
      ],
      "metadata": {
        "id": "h0DKUMfpyzdJ"
      }
    },
    {
      "cell_type": "code",
      "source": [
        "class parentclass1:\n",
        "  def method1(self):\n",
        "    print(\"parentclass1\")\n",
        "class parentclass2:\n",
        "  def method2(self):\n",
        "    print(\"parentclass2\")\n",
        "class childclass(parentclass1,parentclass2):\n",
        "  def method3(self):\n",
        "    print(\"childclass\")\n",
        "ob = childclass()\n",
        "ob.method1()\n",
        "ob.method2()\n",
        "ob.method3()"
      ],
      "metadata": {
        "colab": {
          "base_uri": "https://localhost:8080/"
        },
        "id": "LfNUg50-zSt8",
        "outputId": "b1ea9e2f-0370-43dc-c84c-f19b080fcf5d"
      },
      "execution_count": 7,
      "outputs": [
        {
          "output_type": "stream",
          "name": "stdout",
          "text": [
            "parentclass1\n",
            "parentclass2\n",
            "childclass\n"
          ]
        }
      ]
    },
    {
      "cell_type": "markdown",
      "source": [
        "19. Explain the purpose of ‘’__str__’ and ‘__repr__’ ‘ methods in Python.\n",
        "- __str__(self): This method is called when the str() function is used on an instance of the class. It should return a string representation of the object.\n",
        "- __repr__(self): This method is called when the repr() function is used on an instance of the class. It should return an unambiguous string representation of the object, which can be used to recreate the object."
      ],
      "metadata": {
        "id": "64C7KXlEzp1p"
      }
    },
    {
      "cell_type": "code",
      "source": [
        "class myclass:\n",
        "    def __init__(self,x):\n",
        "      self.x = x\n",
        "    def __str__(self) -> str:\n",
        "       return f\"Myclass object with x = {self.x}\"\n",
        "    def __repr__(self) -> str:\n",
        "        return f\"Myclass({self.x})\"\n",
        "ob = myclass(5)\n",
        "print(ob)\n",
        "print(repr(ob))\n",
        ""
      ],
      "metadata": {
        "colab": {
          "base_uri": "https://localhost:8080/"
        },
        "id": "m5hNkcCH0bUu",
        "outputId": "32b9656e-bd3f-4d58-fd15-997367a644c5"
      },
      "execution_count": 10,
      "outputs": [
        {
          "output_type": "stream",
          "name": "stdout",
          "text": [
            "Myclass object with x = 5\n",
            "Myclass(5)\n"
          ]
        }
      ]
    },
    {
      "cell_type": "markdown",
      "source": [
        "20.  What is the significance of the ‘super()’ function in Python?\n",
        "- The super() function in Python is very important in Object-Oriented Programming (OOP), especially when dealing with inheritance. It allows you to call methods from a parent (base) class in a child (derived) class. Access parent class methods or constructors from the child class. Avoid explicitly naming the parent class, which makes code cleaner and easier to maintain.\n",
        "Essential in multiple inheritance to ensure all parent classes are properly initialized."
      ],
      "metadata": {
        "id": "TmgYpYSG1Fc2"
      }
    },
    {
      "cell_type": "markdown",
      "source": [
        "21. What is the significance of the _del_ method in Python?*\n",
        "- The _del_ method acts as a destructor, allowing you to perform final cleanup when an object is about to be deleted.\n",
        "However, because its execution timing is unpredictable, Python developers generally prefer context managers (with) or explicit cleanup methods (close(), dispose()) for resource management."
      ],
      "metadata": {
        "id": "S_svl_2S2B6X"
      }
    },
    {
      "cell_type": "code",
      "source": [
        "class FileHandler:\n",
        "    def __init__(self, filename):  # constructor fixed\n",
        "        self.file = open(filename, \"w\")\n",
        "        print(\"File opened\")\n",
        "\n",
        "    def __del__(self):  # destructor fixed\n",
        "        self.file.close()\n",
        "        print(\"File closed\")\n",
        "\n",
        "# Create object\n",
        "f = FileHandler(\"example.txt\")\n",
        "\n",
        "# Explicitly delete the object\n",
        "del f\n"
      ],
      "metadata": {
        "colab": {
          "base_uri": "https://localhost:8080/"
        },
        "id": "Q3RFR2zN8-uq",
        "outputId": "bedba555-8943-4857-b713-096c3c22741f"
      },
      "execution_count": 38,
      "outputs": [
        {
          "output_type": "stream",
          "name": "stdout",
          "text": [
            "File opened\n",
            "File closed\n"
          ]
        }
      ]
    },
    {
      "cell_type": "markdown",
      "source": [
        "22. What is the difference between @staticmethod and @classmethod in Python?*\n",
        "- A static method in Python is defined using the @staticmethod decorator and behaves like a regular function placed inside a class. It does not take any automatic first argument, so it has no access to either the instance (self) or the class (cls). Because of this, it cannot read or modify class or instance attributes. Static methods are mainly used for utility or helper functions that are logically related to the class but do not depend on any class-specific or object-specific data.\n",
        "\n",
        "- A class method, on the other hand, is defined using the @classmethod decorator and takes the class itself as the first argument, conventionally named cls. This allows it to access and modify class-level attributes and even create new instances of the class. Class methods are commonly used for factory methods or for operations that need to work with the class as a whole rather than with a particular instance."
      ],
      "metadata": {
        "id": "uNSy0BOa9Cll"
      }
    },
    {
      "cell_type": "markdown",
      "source": [
        "23. How does polymorphism work in Python with inheritance?\n",
        "- Polymorphism means many forms.\n",
        "In Python OOP, polymorphism with inheritance allows a single interface (method) to behave differently depending on the object (class) that implements it.\n",
        "\n",
        "- This is a key principle of runtime polymorphism, where the method to execute is determined at runtime based on the object type."
      ],
      "metadata": {
        "id": "by0smiyM9QBQ"
      }
    },
    {
      "cell_type": "code",
      "source": [
        "class Animal:\n",
        "    def speak(self):\n",
        "        return \"Some sound\"\n",
        "\n",
        "class Dog(Animal):\n",
        "    def speak(self):\n",
        "        return \"Woof!\"\n",
        "\n",
        "class Cat(Animal):\n",
        "    def speak(self):\n",
        "        return \"Meow!\"\n",
        "\n",
        "# Polymorphism in action\n",
        "animals = [Dog(), Cat(), Animal()]\n",
        "\n",
        "for animal in animals:\n",
        "    print(animal.speak())  # Calls the correct speak() depending on the object"
      ],
      "metadata": {
        "colab": {
          "base_uri": "https://localhost:8080/"
        },
        "id": "iLiDyGqZ9MYr",
        "outputId": "02b93ed1-49c9-480e-ef57-b4bf4f5dc4dc"
      },
      "execution_count": 39,
      "outputs": [
        {
          "output_type": "stream",
          "name": "stdout",
          "text": [
            "Woof!\n",
            "Meow!\n",
            "Some sound\n"
          ]
        }
      ]
    },
    {
      "cell_type": "markdown",
      "source": [
        "24. What is method chaining in Python OOP?*\n",
        "- Method chaining is an object-oriented programming (OOP) technique where multiple method calls are made on the same object in a single statement, one after another.\n",
        "This is possible when each method returns the object itself (self) instead of some other value.\n",
        "- It provides a fluent interface, making the code:\n",
        "\n",
        "- Cleaner\n",
        "\n",
        "- More concise\n",
        "\n",
        "-   Easier to read"
      ],
      "metadata": {
        "id": "V77n7eHN9egT"
      }
    },
    {
      "cell_type": "markdown",
      "source": [
        "25. What is the purpose of the _call_ method in Python?\n",
        "- In Python, the _call_ method allows an object (an instance of a class) to be called like a function.\n",
        "If a class defines the _call_ method, you can use function call syntax object() on its instance, and Python will automatically invoke the _call_ method"
      ],
      "metadata": {
        "id": "neV_zbAc9orF"
      }
    },
    {
      "cell_type": "markdown",
      "source": [
        "# Practical Questions"
      ],
      "metadata": {
        "id": "p9ZpOpBEOFZY"
      }
    },
    {
      "cell_type": "markdown",
      "source": [
        "1. Create a parent class Animal with a method speak() that prints a generic message. Create a child class Dog\n",
        "that overrides the speak() method to print \"Bark!\"."
      ],
      "metadata": {
        "id": "aEgveQ5Jd1ys"
      }
    },
    {
      "cell_type": "code",
      "source": [
        "class Animal:\n",
        "    def speak(self):\n",
        "        print(\"Generic animal sound\")\n",
        "\n",
        "class Dog(Animal):\n",
        "    def speak(self):\n",
        "        print(\"Bark!\")\n",
        "\n",
        "# Create instances of the classes\n",
        "animal =Dog()\n",
        "dog = Dog()\n",
        "\n",
        "# Call the speak() method on the instances\n",
        "animal.speak()\n",
        "dog.speak()"
      ],
      "metadata": {
        "colab": {
          "base_uri": "https://localhost:8080/"
        },
        "id": "qFC-yYstd5al",
        "outputId": "6dee6197-8ef7-46ad-8e4e-213844cccb7a"
      },
      "execution_count": null,
      "outputs": [
        {
          "output_type": "stream",
          "name": "stdout",
          "text": [
            "Bark!\n",
            "Bark!\n"
          ]
        }
      ]
    },
    {
      "cell_type": "markdown",
      "source": [
        "2. Write a program to create an abstract class Shape with a method area(). Derive classes Circle and Rectangle\n",
        "from it and implement the area() method in both."
      ],
      "metadata": {
        "id": "LH8_NFqYhXbU"
      }
    },
    {
      "cell_type": "code",
      "source": [
        "import abc\n",
        "class Shape:\n",
        "    @abc.abstractmethod\n",
        "    def area(self):\n",
        "        pass\n",
        "\n",
        "class Circle(Shape):\n",
        "    def area(self,radius):\n",
        "        return 3.14*radius*radius\n",
        "\n",
        "class Rectangle(Shape):\n",
        "    def area(self,length,width):\n",
        "        return length*width\n",
        "ob=Circle()\n",
        "ob.area(5)\n",
        "ob1=Rectangle()\n",
        "ob1.area(5,6)"
      ],
      "metadata": {
        "id": "j0tlwAcuhZ_y",
        "colab": {
          "base_uri": "https://localhost:8080/"
        },
        "outputId": "6ce43943-c4cb-4a39-aef2-4fe718b45364"
      },
      "execution_count": null,
      "outputs": [
        {
          "output_type": "execute_result",
          "data": {
            "text/plain": [
              "78.5"
            ]
          },
          "metadata": {},
          "execution_count": 8
        }
      ]
    },
    {
      "cell_type": "markdown",
      "source": [
        "3. Implement a multi-level inheritance scenario where a class Vehicle has an attribute type. Derive a class Car and further derive a class ElectricCar that adds a battery attribute."
      ],
      "metadata": {
        "id": "DC73W2Zhs5X_"
      }
    },
    {
      "cell_type": "code",
      "source": [
        "class Vehicle:\n",
        "    def __init__(self, type):  # double underscore\n",
        "        self.type = type\n",
        "\n",
        "class Car(Vehicle):\n",
        "    def __init__(self, type, model):\n",
        "        super().__init__(type)  # Vehicle ka constructor call\n",
        "        self.model = model\n",
        "\n",
        "class ElectricCar(Car):\n",
        "    def __init__(self, type, model, battery):\n",
        "        super().__init__(type, model)  # Car ka constructor call\n",
        "        self.battery = battery\n",
        "\n",
        "# Object creation\n",
        "ob = ElectricCar(\"four wheeler\", \"Tesla\", 1000)\n",
        "\n",
        "# Print attributes\n",
        "print(ob.type)     # four wheeler\n",
        "print(ob.model)    # Tesla\n",
        "print(ob.battery)  # 1000\n"
      ],
      "metadata": {
        "colab": {
          "base_uri": "https://localhost:8080/"
        },
        "id": "KM8b4pBUq5b5",
        "outputId": "d8efc61e-8ee7-4545-ec8b-8f4f1fc3aaba"
      },
      "execution_count": 4,
      "outputs": [
        {
          "output_type": "stream",
          "name": "stdout",
          "text": [
            "four wheeler\n",
            "Tesla\n",
            "1000\n"
          ]
        }
      ]
    },
    {
      "cell_type": "markdown",
      "source": [
        "4.Demonstrate polymorphism by creating a base class Bird with a method fly(). Create two derived classes Sparrow and Penguin that override the fly() method."
      ],
      "metadata": {
        "id": "D11c8EuNtbzK"
      }
    },
    {
      "cell_type": "code",
      "source": [
        "class Bird():\n",
        "  def fly(self):\n",
        "        print(\"bird sound\")\n",
        "class Sparrow(Bird):\n",
        "  def fly(self):\n",
        "    print(\"spparow sound\")\n",
        "class Penguin(Bird):\n",
        "  def fly(self):\n",
        "    print(\"penguin sound\")\n",
        "\n",
        "bird = Bird() #creating objects\n",
        "sparrow = Sparrow()\n",
        "penguin = Penguin()\n",
        "\n",
        "bird.fly()#calling object\n",
        "sparrow.fly()\n",
        "penguin.fly()"
      ],
      "metadata": {
        "colab": {
          "base_uri": "https://localhost:8080/"
        },
        "id": "rNGT9-9itc8p",
        "outputId": "40597192-abec-4c2c-f4ea-c299a191a681"
      },
      "execution_count": null,
      "outputs": [
        {
          "output_type": "stream",
          "name": "stdout",
          "text": [
            "bird sound\n",
            "spparow sound\n",
            "penguin sound\n"
          ]
        }
      ]
    },
    {
      "cell_type": "markdown",
      "source": [
        "5. Write a program to demonstrate encapsulation by creating a class BankAccount with private attributes balance and methods to deposit, withdraw, and check balance.\n"
      ],
      "metadata": {
        "id": "KpSWkWLIt8Jf"
      }
    },
    {
      "cell_type": "code",
      "source": [
        "class Bank:  # either you deposit or withdraw\n",
        "\n",
        "    def __init__(self, balance):  # correct constructor\n",
        "        self.__balance = balance   # private variable\n",
        "\n",
        "    def deposit(self, amount):  # add money\n",
        "        self.__balance = self.__balance + amount\n",
        "\n",
        "    def withdraw(self, amount):  # withdraw money\n",
        "        if self.__balance >= amount:\n",
        "            self.__balance = self.__balance - amount\n",
        "            return True\n",
        "        else:\n",
        "            return False\n",
        "\n",
        "    def get_balance(self):  # check balance\n",
        "        return self.__balance\n",
        "\n",
        "\n",
        "# Example usage\n",
        "acc1 = Bank(1000)      # initial balance 1000\n",
        "acc1.deposit(500)      # deposit 500 → total 1500\n",
        "acc1.withdraw(200)     # withdraw 200 → total 1300\n",
        "print(acc1.get_balance())  # output: 1300\n"
      ],
      "metadata": {
        "colab": {
          "base_uri": "https://localhost:8080/"
        },
        "id": "TM47G8DbqcQN",
        "outputId": "9597d384-1d2e-4e86-e2d5-50c300980f6f"
      },
      "execution_count": 3,
      "outputs": [
        {
          "output_type": "stream",
          "name": "stdout",
          "text": [
            "1300\n"
          ]
        }
      ]
    },
    {
      "cell_type": "markdown",
      "source": [
        "6. Demonstrate runtime polymorphism using a method play() in a base class Instrument. Derive classes Guitar and Piano that implement their own version of play()."
      ],
      "metadata": {
        "id": "UGStHzqj2kqu"
      }
    },
    {
      "cell_type": "code",
      "source": [
        "\n",
        "class Instrument:\n",
        "    def play(self):\n",
        "        print(\"Generic sound\")\n",
        "\n",
        "class Guitar(Instrument):\n",
        "    def play(self):\n",
        "        print(\"Guitar sound\")\n",
        "\n",
        "class Piano(Instrument):\n",
        "    def play(self):\n",
        "        print(\"Piano sound\")\n",
        "\n",
        "flute=Instrument()\n",
        "guitar=Guitar()\n",
        "piano=Piano()\n",
        "\n",
        "flute.play()\n",
        "guitar.play()\n",
        "piano.play()"
      ],
      "metadata": {
        "colab": {
          "base_uri": "https://localhost:8080/"
        },
        "id": "3fvPHm0Z2ZLt",
        "outputId": "47a5a77a-d658-4984-9aff-a239c62b910c"
      },
      "execution_count": 11,
      "outputs": [
        {
          "output_type": "stream",
          "name": "stdout",
          "text": [
            "Generic sound\n",
            "Guitar sound\n",
            "Piano sound\n"
          ]
        }
      ]
    },
    {
      "cell_type": "markdown",
      "source": [
        "7. Create a class MathOperations with a class method add_numbers() to add two numbers and a static method subtract_numbers() to subtract two numbers."
      ],
      "metadata": {
        "id": "fKdzZ9vo2zbT"
      }
    },
    {
      "cell_type": "code",
      "source": [
        "class MathOperations:\n",
        "    @classmethod\n",
        "    def add_numbers(cls, a, b):\n",
        "        return a + b\n",
        "\n",
        "    @staticmethod\n",
        "    def subtract_numbers(a, b):\n",
        "        return a - b\n",
        "\n",
        "\n",
        "MathOperations.add_numbers(12,6)\n",
        "MathOperations.subtract_numbers(12,6)"
      ],
      "metadata": {
        "colab": {
          "base_uri": "https://localhost:8080/"
        },
        "id": "PhjStiKv2pHN",
        "outputId": "c19ade95-5663-4810-a382-2c7985afd34b"
      },
      "execution_count": 14,
      "outputs": [
        {
          "output_type": "execute_result",
          "data": {
            "text/plain": [
              "6"
            ]
          },
          "metadata": {},
          "execution_count": 14
        }
      ]
    },
    {
      "cell_type": "markdown",
      "source": [
        "8. Implement a class Person with a class method to count the total number of persons created."
      ],
      "metadata": {
        "id": "fGE0DYgc3Jvm"
      }
    },
    {
      "cell_type": "code",
      "source": [
        "class Person:\n",
        "    count = 0  # class variable\n",
        "\n",
        "    def __init__(self, name):  # constructor fixed\n",
        "        self.name = name\n",
        "        Person.count += 1\n",
        "\n",
        "    @classmethod\n",
        "    def get_count(cls):\n",
        "        return cls.count\n",
        "\n",
        "# Create objects\n",
        "person1 = Person(\"Alice\")\n",
        "person2 = Person(\"Bob\")\n",
        "person3 = Person(\"Charlie\")\n",
        "\n",
        "# Access class method\n",
        "print(Person.get_count())  # Output: 3\n"
      ],
      "metadata": {
        "colab": {
          "base_uri": "https://localhost:8080/"
        },
        "id": "_vQowSvI3niF",
        "outputId": "708837f1-e58b-4947-842c-75dfe3475cef"
      },
      "execution_count": 16,
      "outputs": [
        {
          "output_type": "stream",
          "name": "stdout",
          "text": [
            "3\n"
          ]
        }
      ]
    },
    {
      "cell_type": "markdown",
      "source": [
        "9. Write a class Fraction with attributes numerator and denominator. Override the str method to display the fraction as \"numerator/denominator\"."
      ],
      "metadata": {
        "id": "hLdpipsC38Er"
      }
    },
    {
      "cell_type": "code",
      "source": [
        "class Fraction:\n",
        "    def __init__(self, numerator, denominator):  # double underscore\n",
        "        self.numerator = numerator\n",
        "        self.denominator = denominator\n",
        "\n",
        "    def __str__(self):  # double underscore\n",
        "        return f\"{self.numerator}/{self.denominator}\"\n",
        "\n",
        "# Create an object\n",
        "fraction = Fraction(3, 4)\n",
        "\n",
        "# Print the fraction\n",
        "print(fraction)  # Output: 3/4\n"
      ],
      "metadata": {
        "colab": {
          "base_uri": "https://localhost:8080/"
        },
        "id": "xfbH8tZk4DOW",
        "outputId": "45c78dfa-4007-41ff-ae56-bd99ac9e3f7e"
      },
      "execution_count": 18,
      "outputs": [
        {
          "output_type": "stream",
          "name": "stdout",
          "text": [
            "3/4\n"
          ]
        }
      ]
    },
    {
      "cell_type": "markdown",
      "source": [
        "11. Create a class Person with attributes name and age. Add a method greet() that prints \"Hello, my name is {name} and I am {age} years old.\""
      ],
      "metadata": {
        "id": "FWqVEd9-4O-e"
      }
    },
    {
      "cell_type": "code",
      "source": [
        "class Person:\n",
        "    def __init__(self, name, age):  # constructor fixed\n",
        "        self.name = name\n",
        "        self.age = age\n",
        "\n",
        "    def greet(self):\n",
        "        print(f\"Hello, my name is {self.name} and I am {self.age} years old.\")\n",
        "\n",
        "# Create object\n",
        "wish = Person(\"Shivani\", 19)\n",
        "wish.greet()\n"
      ],
      "metadata": {
        "colab": {
          "base_uri": "https://localhost:8080/"
        },
        "id": "9sP1pkbh4ZIj",
        "outputId": "86daa52d-e87b-4429-f5b0-4bc45875927d"
      },
      "execution_count": 22,
      "outputs": [
        {
          "output_type": "stream",
          "name": "stdout",
          "text": [
            "Hello, my name is Shivani and I am 19 years old.\n"
          ]
        }
      ]
    },
    {
      "cell_type": "markdown",
      "source": [
        "12. Implement a class Student with attributes name and grades. Create a method average_grade() to compute the average of the grades."
      ],
      "metadata": {
        "id": "6Ufxlrjb4reV"
      }
    },
    {
      "cell_type": "code",
      "source": [
        "class Student:\n",
        "    def __init__(self, name, grades):  # constructor fixed\n",
        "        self.name = name\n",
        "        self.grades = grades  # grades should be a list of numbers\n",
        "\n",
        "    def average_grade(self):\n",
        "        if not self.grades:\n",
        "            return 0  # Avoid division by zero if the list is empty\n",
        "        return sum(self.grades) / len(self.grades)\n",
        "\n",
        "\n",
        "# Create object\n",
        "student1 = Student(\"shiva\", [85, 90, 78, 92])\n",
        "print(f\"{student1.name}'s average grade: {student1.average_grade()}\")\n"
      ],
      "metadata": {
        "colab": {
          "base_uri": "https://localhost:8080/"
        },
        "id": "wuuJUbtK4lBr",
        "outputId": "588af6c2-a286-487d-b7ea-3b326835794f"
      },
      "execution_count": 25,
      "outputs": [
        {
          "output_type": "stream",
          "name": "stdout",
          "text": [
            "shiva's average grade: 86.25\n"
          ]
        }
      ]
    },
    {
      "cell_type": "markdown",
      "source": [
        "13. Create a class Rectangle with methods set_dimensions() to set the dimensions and area() to calculate the area."
      ],
      "metadata": {
        "id": "-xweG9TF5NiC"
      }
    },
    {
      "cell_type": "code",
      "source": [
        "class Rectangle:\n",
        "    def __init__(self):  # constructor fixed\n",
        "        self.length = 0\n",
        "        self.width = 0\n",
        "\n",
        "    # Method to set dimensions\n",
        "    def set_dimensions(self, length, width):\n",
        "        self.length = length\n",
        "        self.width = width\n",
        "\n",
        "    # Method to calculate area\n",
        "    def area(self):\n",
        "        return self.length * self.width\n",
        "\n",
        "\n",
        "# Example usage\n",
        "rect = Rectangle()\n",
        "rect.set_dimensions(5, 3)\n",
        "print(\"Area of rectangle:\", rect.area())\n"
      ],
      "metadata": {
        "colab": {
          "base_uri": "https://localhost:8080/"
        },
        "id": "aqDHkzd95E5o",
        "outputId": "c63db9de-763b-4fb8-d316-0e37a6377773"
      },
      "execution_count": 27,
      "outputs": [
        {
          "output_type": "stream",
          "name": "stdout",
          "text": [
            "Area of rectangle: 15\n"
          ]
        }
      ]
    },
    {
      "cell_type": "markdown",
      "source": [
        "14. Create a class Employee with a method calculate_salary() that computes the salary based on hours worked and hourly rate. Create a derived class Manager that adds a bonus to the salary."
      ],
      "metadata": {
        "id": "N_6I1zRm5uRm"
      }
    },
    {
      "cell_type": "code",
      "source": [
        "class Employee:\n",
        "    def __init__(self, name, hours_worked, hourly_rate):  # constructor fixed\n",
        "        self.name = name\n",
        "        self.hours_worked = hours_worked\n",
        "        self.hourly_rate = hourly_rate\n",
        "\n",
        "    def calculate_salary(self):\n",
        "        salary = self.hours_worked * self.hourly_rate\n",
        "        return salary\n",
        "\n",
        "# Derived class\n",
        "class Manager(Employee):\n",
        "    def __init__(self, name, hours_worked, hourly_rate, bonus):\n",
        "        super().__init__(name, hours_worked, hourly_rate)  # call parent constructor\n",
        "        self.bonus = bonus\n",
        "\n",
        "    def calculate_salary(self):\n",
        "        base_salary = super().calculate_salary()\n",
        "        total_salary = base_salary + self.bonus\n",
        "        return total_salary\n",
        "\n",
        "# Example usage\n",
        "emp = Employee(\"Alice\", 40, 20)\n",
        "print(f\"{emp.name}'s Salary: ${emp.calculate_salary()}\")  # Output: 800\n",
        "\n",
        "mgr = Manager(\"Bob\", 40, 30, 500)\n",
        "print(f\"{mgr.name}'s Salary: ${mgr.calculate_salary()}\")  # Output: 1700\n"
      ],
      "metadata": {
        "colab": {
          "base_uri": "https://localhost:8080/"
        },
        "id": "FC0VII5H5bVi",
        "outputId": "b15ea10a-7cdd-41f5-fdf4-d7af08e9903b"
      },
      "execution_count": 29,
      "outputs": [
        {
          "output_type": "stream",
          "name": "stdout",
          "text": [
            "Alice's Salary: $800\n",
            "Bob's Salary: $1700\n"
          ]
        }
      ]
    },
    {
      "cell_type": "markdown",
      "source": [
        "15. Create a class Product with attributes name, price, and quantity. Implement a method total_price() that calculates the total price of the product."
      ],
      "metadata": {
        "id": "2nopKJhL6TtB"
      }
    },
    {
      "cell_type": "code",
      "source": [
        "class Product:\n",
        "    def __init__(self, name, price, quantity):  # constructor fixed\n",
        "        self.name = name\n",
        "        self.price = price\n",
        "        self.quantity = quantity\n",
        "\n",
        "    def total_price(self):\n",
        "        return self.price * self.quantity\n",
        "\n",
        "# Create object\n",
        "product = Product(\"pen\", 10, 5)\n",
        "print(f\"Total price of {product.name}: {product.total_price()}\")\n"
      ],
      "metadata": {
        "colab": {
          "base_uri": "https://localhost:8080/"
        },
        "id": "8MBCf_ng6Kvd",
        "outputId": "09adc792-37a6-4b2c-caf1-efd818c31c0f"
      },
      "execution_count": 31,
      "outputs": [
        {
          "output_type": "stream",
          "name": "stdout",
          "text": [
            "Total price of pen: 50\n"
          ]
        }
      ]
    },
    {
      "cell_type": "markdown",
      "source": [
        "16. Create a class Animal with an abstract method sound(). Create two derived classes Cow and Sheep that implement the sound() method."
      ],
      "metadata": {
        "id": "TnVtYbf37S6b"
      }
    },
    {
      "cell_type": "code",
      "source": [
        "\n",
        "import abc\n",
        "class Animal:\n",
        "    @abc.abstractmethod\n",
        "    def sound(self):\n",
        "        pass\n",
        "\n",
        "class Cow(Animal):\n",
        "    def sound(self):\n",
        "        print(\"Moo!\")\n",
        "\n",
        "class Sheep(Animal):\n",
        "    def sound(self):\n",
        "        print(\"Baa!\")\n",
        "\n",
        "cow=Cow()\n",
        "cow.sound()\n",
        "sheep=Sheep()\n",
        "sheep.sound()"
      ],
      "metadata": {
        "colab": {
          "base_uri": "https://localhost:8080/"
        },
        "id": "skmw0PDo7Cfb",
        "outputId": "498c2b5a-a672-42e9-e966-134459bdc521"
      },
      "execution_count": 32,
      "outputs": [
        {
          "output_type": "stream",
          "name": "stdout",
          "text": [
            "Moo!\n",
            "Baa!\n"
          ]
        }
      ]
    },
    {
      "cell_type": "markdown",
      "source": [
        "17. Create a class Book with attributes title, author, and year_published. Add a method get_book_info() that returns a formatted string with the book's details."
      ],
      "metadata": {
        "id": "2pWxm0kF7ifa"
      }
    },
    {
      "cell_type": "code",
      "source": [
        "class Book:\n",
        "    def __init__(self, title, author, year):  # constructor fixed\n",
        "        self.title = title\n",
        "        self.author = author\n",
        "        self.year = year\n",
        "\n",
        "    def get_book_info(self):\n",
        "        return f\"Title: {self.title} Author: {self.author} Year Published: {self.year}\"\n",
        "\n",
        "# Create object\n",
        "book = Book(\"The Alchemist\", \"Paulo Coelho\", 1988)\n",
        "print(book.get_book_info())\n"
      ],
      "metadata": {
        "colab": {
          "base_uri": "https://localhost:8080/"
        },
        "id": "c4gBfuvU7Z9Q",
        "outputId": "92c97d8b-a8f2-4ef1-f074-667e061883ee"
      },
      "execution_count": 35,
      "outputs": [
        {
          "output_type": "stream",
          "name": "stdout",
          "text": [
            "Title: The Alchemist Author: Paulo Coelho Year Published: 1988\n"
          ]
        }
      ]
    },
    {
      "cell_type": "markdown",
      "source": [
        "18. Create a class House with attributes address and price. Create a derived class Mansion that adds an attribute number_of_rooms."
      ],
      "metadata": {
        "id": "shBW-bCj7_-X"
      }
    },
    {
      "cell_type": "code",
      "source": [
        "# Base class\n",
        "class House:\n",
        "    def __init__(self, address, price):  # constructor fixed\n",
        "        self.address = address\n",
        "        self.price = price\n",
        "\n",
        "    def display_info(self):\n",
        "        print(f\"Address: {self.address}\")\n",
        "        print(f\"Price: ${self.price}\")\n",
        "\n",
        "# Derived class\n",
        "class Mansion(House):\n",
        "    def __init__(self, address, price, number_of_rooms):\n",
        "        super().__init__(address, price)  # call base class constructor\n",
        "        self.number_of_rooms = number_of_rooms\n",
        "\n",
        "    def display_info(self):\n",
        "        super().display_info()  # Display base class info\n",
        "        print(f\"Number of rooms: {self.number_of_rooms}\")\n",
        "\n",
        "# Create House object\n",
        "house = House(\"123 Main St\", 250000)\n",
        "house.display_info()\n",
        "\n",
        "print(\"\\n\")\n",
        "\n",
        "# Create Mansion object\n",
        "mansion = Mansion(\"456 Luxury Ave\", 1200000, 10)\n",
        "mansion.display_info()\n"
      ],
      "metadata": {
        "colab": {
          "base_uri": "https://localhost:8080/"
        },
        "id": "9M0gXQOv7zL5",
        "outputId": "afad52de-cc01-4c76-c15c-73600b2ce3c7"
      },
      "execution_count": 36,
      "outputs": [
        {
          "output_type": "stream",
          "name": "stdout",
          "text": [
            "Address: 123 Main St\n",
            "Price: $250000\n",
            "\n",
            "\n",
            "Address: 456 Luxury Ave\n",
            "Price: $1200000\n",
            "Number of rooms: 10\n"
          ]
        }
      ]
    }
  ]
}