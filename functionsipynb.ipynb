{
  "nbformat": 4,
  "nbformat_minor": 0,
  "metadata": {
    "colab": {
      "provenance": []
    },
    "kernelspec": {
      "name": "python3",
      "display_name": "Python 3"
    },
    "language_info": {
      "name": "python"
    }
  },
  "cells": [
    {
      "cell_type": "markdown",
      "source": [
        "1. What is the difference between a function and a method in Python?\n",
        "- Functions are nothing but a block of code which performs a specific task and can be called again and again as per requirement in the code. It is defined using the def keyword (or lambda for anonymous functions).\n",
        "- A method is also a function, but it is defined inside a class. It works with objects (instances) of that class. You call it using an object.\n",
        "- All methods are functions, but not all functions are methods."
      ],
      "metadata": {
        "id": "Grgc1UwDHFnA"
      }
    },
    {
      "cell_type": "code",
      "source": [
        "# example of function\n",
        "def greetings():\n",
        "  print('Hi! This is Shivani')\n",
        "greetings() #function calling"
      ],
      "metadata": {
        "colab": {
          "base_uri": "https://localhost:8080/"
        },
        "id": "WGc9SkhwI3y1",
        "outputId": "3eab4613-dc76-49d7-8305-528d0affeb90"
      },
      "execution_count": null,
      "outputs": [
        {
          "output_type": "stream",
          "name": "stdout",
          "text": [
            "Hi! This is Shivani\n"
          ]
        }
      ]
    },
    {
      "cell_type": "code",
      "source": [
        "class Person:\n",
        "    def __init__(self, name):\n",
        "        self.name = name\n",
        "\n",
        "    def greet(self):  # method\n",
        "        return f\"Hello, {self.name}!\"\n",
        "\n",
        "p = Person(\"Shivani\")\n",
        "print(p.greet())  # calling a method through an object\n"
      ],
      "metadata": {
        "colab": {
          "base_uri": "https://localhost:8080/"
        },
        "id": "Q2lH-0xUJhS3",
        "outputId": "eb3a4ee6-d9ce-4e79-b9d2-87a143c32adf"
      },
      "execution_count": null,
      "outputs": [
        {
          "output_type": "stream",
          "name": "stdout",
          "text": [
            "Hello, Shivani!\n"
          ]
        }
      ]
    },
    {
      "cell_type": "markdown",
      "source": [
        "2. Explain the concept of function arguments and parameters in Python.\n",
        "- Function arguments are values that you provide to a function when you call it. These arguments can be used by the function to perform specific tasks. When you define and call a function, you can pass values (called arguments) into it. These values allow the function to work with dynamic data instead of fixed values.\n",
        "- Pyhton gives flexibility with different types of arguments like positional argument, Keyword arguments, default argument, Variable-length arguments.\n",
        "- Positional Arguments: Values passed in the same order as parameters.\n",
        "- Keyword Arguments: specify the parameter name when calling.\n",
        "- Default Arguments: parameters with default values.\n",
        "- Variable-length arguments: *args is allows multiple positional arguments (tuple). **kwargs is allows multiple keyword arguments"
      ],
      "metadata": {
        "id": "1trtZz_rKCqZ"
      }
    },
    {
      "cell_type": "code",
      "source": [
        "# Positional arguments\n",
        "def add(a, b):\n",
        "    return a + b\n",
        "print(add(5, 10))\n",
        "\n",
        "# Keyword arguments\n",
        "def introduce(name, age):\n",
        "    print(f\"My name is {name}, and I am {age} years old.\")\n",
        "introduce(age=20, name=\"Shivani\")  # order doesn’t matter\n",
        "\n",
        "# Default arguments\n",
        "def greet(name=\"Guest\"):\n",
        "    print(f\"Hello, {name}!\")\n",
        "greet()          # uses default → Guest\n",
        "greet(\"Shivani\") # overrides default\n",
        "\n",
        "# Variable-length arguments\n",
        "def show(*args, **kwargs):\n",
        "    print(\"Positional:\", args)\n",
        "    print(\"Keyword:\", kwargs)\n",
        "show(1, 2, 3, name=\"Shivani\", age=20)\n"
      ],
      "metadata": {
        "colab": {
          "base_uri": "https://localhost:8080/"
        },
        "id": "mJG9-NJ4MrxN",
        "outputId": "44ede7af-a2d6-4f23-8970-5ccc9553d24b"
      },
      "execution_count": null,
      "outputs": [
        {
          "output_type": "stream",
          "name": "stdout",
          "text": [
            "15\n",
            "My name is Shivani, and I am 20 years old.\n",
            "Hello, Guest!\n",
            "Hello, Shivani!\n",
            "Positional: (1, 2, 3)\n",
            "Keyword: {'name': 'Shivani', 'age': 20}\n"
          ]
        }
      ]
    },
    {
      "cell_type": "markdown",
      "source": [
        "3. What are the different ways to define and call a function in Python?\n",
        "-  There are different ways to define a function in python.\n",
        "- We use def keyword for definig a function.\n",
        "- we use lambda for anonymous function.\n",
        "- We can define a funtion inside a another function using def keyword.\n",
        "- We can define a function inside a class using a def keyword.\n",
        "- We can call a function in python like simple call, with arguments, with default arguments, with keyword arguments, with *args and * kwargs atc."
      ],
      "metadata": {
        "id": "fZCOx0ZcOEYH"
      }
    },
    {
      "cell_type": "code",
      "source": [
        "# 1. Normal function using def\n",
        "def add(a, b):\n",
        "    return a + b\n",
        "\n",
        "print(\"Normal function:\", add(5, 3))  # simple call with arguments\n",
        "\n",
        "\n",
        "# 2. Lambda function\n",
        "square = lambda x: x * x\n",
        "print(\"Lambda function:\", square(4))  # calling lambda\n",
        "\n",
        "\n",
        "# 3. Nested function\n",
        "def outer():\n",
        "    def inner():\n",
        "        return \"I am inner function\"\n",
        "    return inner()  # calling inner inside outer\n",
        "\n",
        "print(\"Nested function:\", outer())\n",
        "\n",
        "\n",
        "# 4. Function with *args and **kwargs\n",
        "def show(*args, **kwargs):\n",
        "    print(\"Args:\", args)\n",
        "    print(\"Kwargs:\", kwargs)\n",
        "\n",
        "show(1, 2, 3, name=\"Shivani\", age=20)  # variable-length arguments\n"
      ],
      "metadata": {
        "colab": {
          "base_uri": "https://localhost:8080/"
        },
        "id": "5xoITYj-Nq7O",
        "outputId": "94918323-112a-4c60-dd6e-26bf65d06d27"
      },
      "execution_count": null,
      "outputs": [
        {
          "output_type": "stream",
          "name": "stdout",
          "text": [
            "Normal function: 8\n",
            "Lambda function: 16\n",
            "Nested function: I am inner function\n",
            "Args: (1, 2, 3)\n",
            "Kwargs: {'name': 'Shivani', 'age': 20}\n"
          ]
        }
      ]
    },
    {
      "cell_type": "markdown",
      "source": [
        "4.  What is the purpose of the `return` statement in a Python function?\n",
        "- The return statement is used inside a function to send the result (value) back to the caller. Without return, a function just runs and ends, but it does not give any output value back. With return, you can store, reuse, or process the result outside the function."
      ],
      "metadata": {
        "id": "-8hsbhirOhdU"
      }
    },
    {
      "cell_type": "code",
      "source": [
        "# function with return\n",
        "def greet(name):\n",
        "    return f\"Hello, {name}!\"\n",
        "\n",
        "result = greet(\"Shivani\")\n",
        "print(\"Result is:\", result)\n",
        "\n"
      ],
      "metadata": {
        "colab": {
          "base_uri": "https://localhost:8080/"
        },
        "id": "oId5aV5TPPb_",
        "outputId": "7d9832ad-c691-4630-a18c-6ea8e730f197"
      },
      "execution_count": null,
      "outputs": [
        {
          "output_type": "stream",
          "name": "stdout",
          "text": [
            "Result is: Hello, Shivani!\n"
          ]
        }
      ]
    },
    {
      "cell_type": "markdown",
      "source": [
        "5. What are iterators in Python and how do they differ from iterables?\n",
        "- Iterator in python is an object that is used to iterate over iterable objects like lists, tuples, dicts, and sets. The iterator object is initialized using the `iter()` method. It uses the `next()` method for iteration.\n",
        "- Iterable : like a book (it has many pages, you can start reading again anytime).\n",
        "- Iterator : like a bookmark (it remembers where you are, and moves forward page by page until the end)."
      ],
      "metadata": {
        "id": "qdvrUDxHPmD6"
      }
    },
    {
      "cell_type": "code",
      "source": [
        "mytuple = (\"apple\", \"banana\", \"cherry\")\n",
        "myit = iter(mytuple)\n",
        "print(next(myit))\n",
        "print(next(myit))\n",
        "print(next(myit))"
      ],
      "metadata": {
        "colab": {
          "base_uri": "https://localhost:8080/"
        },
        "id": "kwdIPLoDQLs5",
        "outputId": "3db9cc97-aa98-4c3a-b5d1-92aa9a95d2e3"
      },
      "execution_count": null,
      "outputs": [
        {
          "output_type": "stream",
          "name": "stdout",
          "text": [
            "apple\n",
            "banana\n",
            "cherry\n"
          ]
        }
      ]
    },
    {
      "cell_type": "markdown",
      "source": [
        "6. Explain the concept of generators in Python and how they are defined.\n",
        "- Generator functions in Python are a way to create iterators in a more concise and memory-efficient manner. These functions allow you to iterate over a potentially large sequence of data without loading the entire sequence into memory. The main difference between a regular function and a generator function is that the latter uses the yield keyword to produce a series of values over time, one at a time, rather than returning a single result.\n",
        "- Use of yield: Instead of using return to send a value back to the caller, a generator function uses ‘yield’. When the generator function encounters a ‘yield’ statement, it returns the value specified in the yield and pauses its execution state. The next time the generator is called, it resumes from where it left off."
      ],
      "metadata": {
        "id": "API1_yyWQhJC"
      }
    },
    {
      "cell_type": "code",
      "source": [
        "def courses_generator():\n",
        "  yield \"Python Basics\"\n",
        "  yield \"Web Development Fundamentals\"\n",
        "  yield \"Data Science Essentials\"\n",
        "# Usage\n",
        "for course in courses_generator():\n",
        "  print(f\"Enroll in: {course}\")"
      ],
      "metadata": {
        "colab": {
          "base_uri": "https://localhost:8080/"
        },
        "id": "c_Z1N8vYSDRq",
        "outputId": "8da8a4b3-7625-4cd7-80aa-8515cef01afe"
      },
      "execution_count": null,
      "outputs": [
        {
          "output_type": "stream",
          "name": "stdout",
          "text": [
            "Enroll in: Python Basics\n",
            "Enroll in: Web Development Fundamentals\n",
            "Enroll in: Data Science Essentials\n"
          ]
        }
      ]
    },
    {
      "cell_type": "markdown",
      "source": [
        "7. What are the advantages of using generators over regular functions?\n",
        "-  Memory Efficiency: A generator produces values one at a time using yield. It doesn’t store the whole sequence in memory (unlike lists or regular functions that return collections).\n",
        "- Lazy Evaluation: Generator functions follow the concept of lazy evaluation. This means that the values are generated on-the-fly and only when requested. This is particularly useful for working with large datasets or infinite sequences.\n",
        "- Infinite Sequences Support: Regular functions can’t handle infinite results, but generators can keep yielding values forever.\n",
        "- Cleaner & Simpler Code: Using yield removes the need for manual iterator classes with __iter__() and __next__(). Generator functions are easier to read and maintain."
      ],
      "metadata": {
        "id": "xOY9ZLTfSS7r"
      }
    },
    {
      "cell_type": "code",
      "source": [
        "def countdown(n):\n",
        "  while n > 0:\n",
        "   yield n\n",
        "   n -= 1\n",
        "# Using the generator for a countdown\n",
        "countdown_gen = countdown(10)\n",
        "for number in countdown_gen:\n",
        "  print(number)\n"
      ],
      "metadata": {
        "colab": {
          "base_uri": "https://localhost:8080/"
        },
        "id": "vF7XqU2DTaor",
        "outputId": "3c48a877-93dd-4cb7-bf40-cd96645d39d7"
      },
      "execution_count": null,
      "outputs": [
        {
          "output_type": "stream",
          "name": "stdout",
          "text": [
            "10\n",
            "9\n",
            "8\n",
            "7\n",
            "6\n",
            "5\n",
            "4\n",
            "3\n",
            "2\n",
            "1\n"
          ]
        }
      ]
    },
    {
      "cell_type": "markdown",
      "source": [
        "8. What is a lambda function in Python and when is it typically used?\n",
        "\n",
        "- A lambda function in Python is a concise way to create anonymous functions, also known as lambda expressions. Unlike regular functions defined using the def keyword, lambda functions are often used for short-term operations and are defined in a single line."
      ],
      "metadata": {
        "id": "kIEYWfehT9Z9"
      }
    },
    {
      "cell_type": "code",
      "source": [
        "words = [\"Python\", \"DataScience\", \"JS\",\n",
        "\"MachineLearning\"]\n",
        "sorted_words = sorted(words, key=lambda word: len(word))\n",
        "print(sorted_words)\n"
      ],
      "metadata": {
        "colab": {
          "base_uri": "https://localhost:8080/"
        },
        "id": "vM8QkylRfVtv",
        "outputId": "7592a167-4c23-44e9-b132-eb20b41816d4"
      },
      "execution_count": null,
      "outputs": [
        {
          "output_type": "stream",
          "name": "stdout",
          "text": [
            "['JS', 'Python', 'DataScience', 'MachineLearning']\n"
          ]
        }
      ]
    },
    {
      "cell_type": "markdown",
      "source": [
        "9. Explain the purpose and usage of the `map()` function in Python.\n",
        "- The `map()` function executes a specified function for each item in an `iterable`. The item is sent to the function as a parameter. The map() function in Python is a built-in function that applies a given function to all the items in an iterable (e.g., a list) and returns an iterable map object (an iterator) of the results.\n",
        "- Function Parameter: The first parameter of map() is the function that you want to apply to each item in the iterable. It can be a built-in function, a user-defined function, or a lambda function.\n",
        "- Iterable Parameters: The second parameter onward represents one or more iterables (e.g., lists, tuples, strings) on which the specified function will be applied. All iterables should have the same length. If one iterable is shorter than the others, map() stops when the shortest iterable is exhausted.\n",
        "- Iterating Over the Iterable(s): map() applies the specified function to each corresponding item in the iterables, moving in a parallel fashion. It starts by applying the function to the first items, then the second items, and so on.\n",
        "- Generating a Map Object (Iterator): map() returns an iterable map object. This is a special type of iterator that contains the results of applying\n",
        "the function to the items in the input iterables."
      ],
      "metadata": {
        "id": "zRPUSGPJfz1B"
      }
    },
    {
      "cell_type": "code",
      "source": [
        "# Calculate Square of Each Number\n",
        "numbers = [1, 2, 3, 4, 5]\n",
        "squared_numbers = list(map(lambda x: x**2, numbers))\n",
        "print(squared_numbers)"
      ],
      "metadata": {
        "colab": {
          "base_uri": "https://localhost:8080/"
        },
        "id": "a8NhrnZ4hYe_",
        "outputId": "1cb2a48a-db59-440b-e677-d89dad2f59a7"
      },
      "execution_count": null,
      "outputs": [
        {
          "output_type": "stream",
          "name": "stdout",
          "text": [
            "[1, 4, 9, 16, 25]\n"
          ]
        }
      ]
    },
    {
      "cell_type": "markdown",
      "source": [
        "10. What is the difference between `map()`, `reduce()`, and `filter()` functions in Python?\n",
        "- map(): Its purpose to applies a function to each elements of an iterable(like list, tuple).\n",
        "- filter(): Its purpose to select elements from an iterable based on a condition(booolean function).\n",
        "- reduce(): Its purpose for repeatedly applies a function to reduce an iterable to a single value.\n"
      ],
      "metadata": {
        "id": "rDXWXTsRhrzM"
      }
    },
    {
      "cell_type": "code",
      "source": [
        "#map() example\n",
        "numbers = [1, 2, 3, 4]\n",
        "result = map(lambda x: x**2, numbers)\n",
        "print(list(result))\n",
        "#filter() example\n",
        "numbers = [1, 2, 3, 4, 5, 6]\n",
        "result = filter(lambda x: x % 2 == 0, numbers)\n",
        "print(list(result))\n",
        "#reduce() example\n",
        "numbers = [1, 2, 3, 4, 5, 6]\n",
        "result = filter(lambda x: x % 2 == 0, numbers)\n",
        "print(list(result))"
      ],
      "metadata": {
        "colab": {
          "base_uri": "https://localhost:8080/"
        },
        "id": "1U2oXnMcisvw",
        "outputId": "cd481065-14c6-4814-b8f3-a147ea284284"
      },
      "execution_count": null,
      "outputs": [
        {
          "output_type": "stream",
          "name": "stdout",
          "text": [
            "[1, 4, 9, 16]\n",
            "[2, 4, 6]\n",
            "[2, 4, 6]\n"
          ]
        }
      ]
    },
    {
      "cell_type": "markdown",
      "source": [
        "11. Using pen & Paper write the internal mechanism for sum operation using  reduce function on this given\n",
        "list:[47,11,42,13];"
      ],
      "metadata": {
        "id": "cZ_vLXHJVC1i"
      }
    },
    {
      "cell_type": "markdown",
      "source": [
        "![Reduce_Function.jpg](data:image/jpeg;base64,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)"
      ],
      "metadata": {
        "id": "D5OPIMRFT--u"
      }
    },
    {
      "cell_type": "markdown",
      "source": [
        "# Practical Questions"
      ],
      "metadata": {
        "id": "zdmXQFLDj0H_"
      }
    },
    {
      "cell_type": "markdown",
      "source": [
        "1. Write a Python function that takes a list of numbers as input and returns the sum of all even numbers in the list."
      ],
      "metadata": {
        "id": "LyJYNOIRtw72"
      }
    },
    {
      "cell_type": "code",
      "source": [
        "def sum_even_numbers(numbers):\n",
        "    sum_even = 0\n",
        "    for num in numbers:\n",
        "        if num % 2 == 0:\n",
        "            sum_even +=num\n",
        "    return sum_even\n",
        "sum_even_numbers([1,2,3,4,5,6,7,8,9,10])"
      ],
      "metadata": {
        "id": "hDBAR7lxtsG0"
      },
      "execution_count": null,
      "outputs": []
    },
    {
      "cell_type": "markdown",
      "source": [
        "2.Create a Python function that accepts a string and returns the reverse of that string."
      ],
      "metadata": {
        "id": "n_G5btfKuAUM"
      }
    },
    {
      "cell_type": "code",
      "source": [
        "def reverse_string(string):\n",
        "    return string[::-1]\n",
        "reverse_string(\"Rakesh\")"
      ],
      "metadata": {
        "id": "bzG-8YPQt1zV"
      },
      "execution_count": null,
      "outputs": []
    },
    {
      "cell_type": "markdown",
      "source": [
        "3. Implement a Python function that takes a list of integers and returns a new list containing the squares of each number."
      ],
      "metadata": {
        "id": "Vq7BtPzhuO10"
      }
    },
    {
      "cell_type": "code",
      "source": [
        "def square_numbers(numbers):\n",
        "    squares = [num ** 2 for num in numbers]\n",
        "    return squares\n",
        "square_numbers([1,2,3,4,5])"
      ],
      "metadata": {
        "id": "dgRNJGd1uFxy"
      },
      "execution_count": null,
      "outputs": []
    },
    {
      "cell_type": "markdown",
      "source": [
        "4. Write a Python function that checks if a given number is prime or not from 1 to 200."
      ],
      "metadata": {
        "id": "QI0DQGtCub6H"
      }
    },
    {
      "cell_type": "code",
      "source": [
        "def is_prime(number):\n",
        "    if number < 2:\n",
        "        return False\n",
        "    for i in range(2, int(number ** 0.5)+1):\n",
        "        if number % i == 0:\n",
        "            return False\n",
        "    return True\n",
        "for n in range(1, 201):\n",
        "    if is_prime(n):\n",
        "        print(n, end=\" \")"
      ],
      "metadata": {
        "colab": {
          "base_uri": "https://localhost:8080/"
        },
        "id": "65DUX-aRuS5q",
        "outputId": "cfa06d40-00a6-4c02-a475-a3ee92b6633e"
      },
      "execution_count": null,
      "outputs": [
        {
          "output_type": "stream",
          "name": "stdout",
          "text": [
            "2 3 5 7 11 13 17 19 23 29 31 37 41 43 47 53 59 61 67 71 73 79 83 89 97 101 103 107 109 113 127 131 137 139 149 151 157 163 167 173 179 181 191 193 197 199 "
          ]
        }
      ]
    },
    {
      "cell_type": "markdown",
      "source": [
        "5. Create an iterator class in Python that generates the Fibonacci sequence up to a specified number of\n",
        "terms."
      ],
      "metadata": {
        "id": "qNSNq5DMrVFq"
      }
    },
    {
      "cell_type": "code",
      "source": [
        "n = int(input(\"Enter the number of terms: \"))\n",
        "a, b = 0, 1\n",
        "fib_list = []\n",
        "\n",
        "for _ in range(n):\n",
        "    fib_list.append(a)\n",
        "    a, b = b, a + b\n",
        "\n",
        "my_iter = iter(fib_list)\n",
        "print(next(my_iter))\n",
        "print(next(my_iter))\n",
        "print(next(my_iter))\n",
        "print(next(my_iter))\n"
      ],
      "metadata": {
        "colab": {
          "base_uri": "https://localhost:8080/"
        },
        "id": "lNDgT1R_lHy9",
        "outputId": "03a62989-a92d-43cd-9b20-a80afb37f483"
      },
      "execution_count": null,
      "outputs": [
        {
          "output_type": "stream",
          "name": "stdout",
          "text": [
            "Enter the number of terms: 7\n",
            "0\n",
            "1\n"
          ]
        }
      ]
    },
    {
      "cell_type": "markdown",
      "source": [
        "6. Write a generator function in Python that yields the powers of 2 up to a given exponent."
      ],
      "metadata": {
        "id": "_E-EFNLgu62x"
      }
    },
    {
      "cell_type": "code",
      "source": [
        "\n",
        "def power_of_two(exponent):\n",
        "    for i in range(exponent + 1):\n",
        "        yield 2 ** i\n",
        "for power in power_of_two(10):\n",
        "  print(power)"
      ],
      "metadata": {
        "colab": {
          "base_uri": "https://localhost:8080/"
        },
        "id": "GTSXx2V-up0U",
        "outputId": "2c3da5e3-3eec-49df-f12e-8bd3bc032ba0"
      },
      "execution_count": null,
      "outputs": [
        {
          "output_type": "stream",
          "name": "stdout",
          "text": [
            "1\n",
            "2\n",
            "4\n",
            "8\n",
            "16\n",
            "32\n",
            "64\n",
            "128\n",
            "256\n",
            "512\n",
            "1024\n"
          ]
        }
      ]
    },
    {
      "cell_type": "markdown",
      "source": [
        "7. Implement a generator function that reads a file line by line and yields each line as a string."
      ],
      "metadata": {
        "id": "UuTuBy0rrXu6"
      }
    },
    {
      "cell_type": "code",
      "source": [
        "from google.colab import files\n",
        "\n",
        "# Upload file from your computer\n",
        "uploaded = files.upload()\n",
        "\n",
        "def read_file_line_by_line(filename):\n",
        "    with open(filename, \"r\") as file:\n",
        "        for line in file:\n",
        "            yield line.strip()\n",
        "\n",
        "# Example usage (replace \"Data.txt\" with the uploaded filename)\n",
        "for line in read_file_line_by_line(\"sample.txt\"):\n",
        "    print(line)\n"
      ],
      "metadata": {
        "colab": {
          "base_uri": "https://localhost:8080/",
          "height": 91
        },
        "id": "PmDKcCAEVGU2",
        "outputId": "a140beaf-fd41-4b2e-b766-7896e157edb1"
      },
      "execution_count": null,
      "outputs": [
        {
          "output_type": "display_data",
          "data": {
            "text/plain": [
              "<IPython.core.display.HTML object>"
            ],
            "text/html": [
              "\n",
              "     <input type=\"file\" id=\"files-0f87379b-e859-4fea-9a7f-6e55151ff54b\" name=\"files[]\" multiple disabled\n",
              "        style=\"border:none\" />\n",
              "     <output id=\"result-0f87379b-e859-4fea-9a7f-6e55151ff54b\">\n",
              "      Upload widget is only available when the cell has been executed in the\n",
              "      current browser session. Please rerun this cell to enable.\n",
              "      </output>\n",
              "      <script>// Copyright 2017 Google LLC\n",
              "//\n",
              "// Licensed under the Apache License, Version 2.0 (the \"License\");\n",
              "// you may not use this file except in compliance with the License.\n",
              "// You may obtain a copy of the License at\n",
              "//\n",
              "//      http://www.apache.org/licenses/LICENSE-2.0\n",
              "//\n",
              "// Unless required by applicable law or agreed to in writing, software\n",
              "// distributed under the License is distributed on an \"AS IS\" BASIS,\n",
              "// WITHOUT WARRANTIES OR CONDITIONS OF ANY KIND, either express or implied.\n",
              "// See the License for the specific language governing permissions and\n",
              "// limitations under the License.\n",
              "\n",
              "/**\n",
              " * @fileoverview Helpers for google.colab Python module.\n",
              " */\n",
              "(function(scope) {\n",
              "function span(text, styleAttributes = {}) {\n",
              "  const element = document.createElement('span');\n",
              "  element.textContent = text;\n",
              "  for (const key of Object.keys(styleAttributes)) {\n",
              "    element.style[key] = styleAttributes[key];\n",
              "  }\n",
              "  return element;\n",
              "}\n",
              "\n",
              "// Max number of bytes which will be uploaded at a time.\n",
              "const MAX_PAYLOAD_SIZE = 100 * 1024;\n",
              "\n",
              "function _uploadFiles(inputId, outputId) {\n",
              "  const steps = uploadFilesStep(inputId, outputId);\n",
              "  const outputElement = document.getElementById(outputId);\n",
              "  // Cache steps on the outputElement to make it available for the next call\n",
              "  // to uploadFilesContinue from Python.\n",
              "  outputElement.steps = steps;\n",
              "\n",
              "  return _uploadFilesContinue(outputId);\n",
              "}\n",
              "\n",
              "// This is roughly an async generator (not supported in the browser yet),\n",
              "// where there are multiple asynchronous steps and the Python side is going\n",
              "// to poll for completion of each step.\n",
              "// This uses a Promise to block the python side on completion of each step,\n",
              "// then passes the result of the previous step as the input to the next step.\n",
              "function _uploadFilesContinue(outputId) {\n",
              "  const outputElement = document.getElementById(outputId);\n",
              "  const steps = outputElement.steps;\n",
              "\n",
              "  const next = steps.next(outputElement.lastPromiseValue);\n",
              "  return Promise.resolve(next.value.promise).then((value) => {\n",
              "    // Cache the last promise value to make it available to the next\n",
              "    // step of the generator.\n",
              "    outputElement.lastPromiseValue = value;\n",
              "    return next.value.response;\n",
              "  });\n",
              "}\n",
              "\n",
              "/**\n",
              " * Generator function which is called between each async step of the upload\n",
              " * process.\n",
              " * @param {string} inputId Element ID of the input file picker element.\n",
              " * @param {string} outputId Element ID of the output display.\n",
              " * @return {!Iterable<!Object>} Iterable of next steps.\n",
              " */\n",
              "function* uploadFilesStep(inputId, outputId) {\n",
              "  const inputElement = document.getElementById(inputId);\n",
              "  inputElement.disabled = false;\n",
              "\n",
              "  const outputElement = document.getElementById(outputId);\n",
              "  outputElement.innerHTML = '';\n",
              "\n",
              "  const pickedPromise = new Promise((resolve) => {\n",
              "    inputElement.addEventListener('change', (e) => {\n",
              "      resolve(e.target.files);\n",
              "    });\n",
              "  });\n",
              "\n",
              "  const cancel = document.createElement('button');\n",
              "  inputElement.parentElement.appendChild(cancel);\n",
              "  cancel.textContent = 'Cancel upload';\n",
              "  const cancelPromise = new Promise((resolve) => {\n",
              "    cancel.onclick = () => {\n",
              "      resolve(null);\n",
              "    };\n",
              "  });\n",
              "\n",
              "  // Wait for the user to pick the files.\n",
              "  const files = yield {\n",
              "    promise: Promise.race([pickedPromise, cancelPromise]),\n",
              "    response: {\n",
              "      action: 'starting',\n",
              "    }\n",
              "  };\n",
              "\n",
              "  cancel.remove();\n",
              "\n",
              "  // Disable the input element since further picks are not allowed.\n",
              "  inputElement.disabled = true;\n",
              "\n",
              "  if (!files) {\n",
              "    return {\n",
              "      response: {\n",
              "        action: 'complete',\n",
              "      }\n",
              "    };\n",
              "  }\n",
              "\n",
              "  for (const file of files) {\n",
              "    const li = document.createElement('li');\n",
              "    li.append(span(file.name, {fontWeight: 'bold'}));\n",
              "    li.append(span(\n",
              "        `(${file.type || 'n/a'}) - ${file.size} bytes, ` +\n",
              "        `last modified: ${\n",
              "            file.lastModifiedDate ? file.lastModifiedDate.toLocaleDateString() :\n",
              "                                    'n/a'} - `));\n",
              "    const percent = span('0% done');\n",
              "    li.appendChild(percent);\n",
              "\n",
              "    outputElement.appendChild(li);\n",
              "\n",
              "    const fileDataPromise = new Promise((resolve) => {\n",
              "      const reader = new FileReader();\n",
              "      reader.onload = (e) => {\n",
              "        resolve(e.target.result);\n",
              "      };\n",
              "      reader.readAsArrayBuffer(file);\n",
              "    });\n",
              "    // Wait for the data to be ready.\n",
              "    let fileData = yield {\n",
              "      promise: fileDataPromise,\n",
              "      response: {\n",
              "        action: 'continue',\n",
              "      }\n",
              "    };\n",
              "\n",
              "    // Use a chunked sending to avoid message size limits. See b/62115660.\n",
              "    let position = 0;\n",
              "    do {\n",
              "      const length = Math.min(fileData.byteLength - position, MAX_PAYLOAD_SIZE);\n",
              "      const chunk = new Uint8Array(fileData, position, length);\n",
              "      position += length;\n",
              "\n",
              "      const base64 = btoa(String.fromCharCode.apply(null, chunk));\n",
              "      yield {\n",
              "        response: {\n",
              "          action: 'append',\n",
              "          file: file.name,\n",
              "          data: base64,\n",
              "        },\n",
              "      };\n",
              "\n",
              "      let percentDone = fileData.byteLength === 0 ?\n",
              "          100 :\n",
              "          Math.round((position / fileData.byteLength) * 100);\n",
              "      percent.textContent = `${percentDone}% done`;\n",
              "\n",
              "    } while (position < fileData.byteLength);\n",
              "  }\n",
              "\n",
              "  // All done.\n",
              "  yield {\n",
              "    response: {\n",
              "      action: 'complete',\n",
              "    }\n",
              "  };\n",
              "}\n",
              "\n",
              "scope.google = scope.google || {};\n",
              "scope.google.colab = scope.google.colab || {};\n",
              "scope.google.colab._files = {\n",
              "  _uploadFiles,\n",
              "  _uploadFilesContinue,\n",
              "};\n",
              "})(self);\n",
              "</script> "
            ]
          },
          "metadata": {}
        },
        {
          "output_type": "stream",
          "name": "stdout",
          "text": [
            "Saving sample.txt to sample (1).txt\n",
            "\"Helloo World !!\"\n"
          ]
        }
      ]
    },
    {
      "cell_type": "markdown",
      "source": [
        "8.Use a lambda function in Python to sort a list of tuples based on the second element of each tuple."
      ],
      "metadata": {
        "id": "tR8MdGF5WStR"
      }
    },
    {
      "cell_type": "code",
      "source": [
        "data = [(1, 5), (3, 2), (2, 8), (4, 1)]\n",
        "sorted_data = sorted(data, key=lambda x: x[1])\n",
        "print(sorted_data)"
      ],
      "metadata": {
        "id": "D8UZjbkZvcnh"
      },
      "execution_count": null,
      "outputs": []
    },
    {
      "cell_type": "markdown",
      "source": [
        "9. Write a Python program that uses map() to convert a list of temperatures from Celsius to Fahrenheit."
      ],
      "metadata": {
        "id": "tkUJdEZ6vncX"
      }
    },
    {
      "cell_type": "code",
      "source": [
        "celsius_temperatures = [0, 10, 20, 30, 40]\n",
        "fahrenheit_temperatures = list(map(lambda c: (c * 9/5) + 32, celsius_temperatures))\n",
        "print(fahrenheit_temperatures)"
      ],
      "metadata": {
        "id": "mGll3_BAvmcX"
      },
      "execution_count": null,
      "outputs": []
    },
    {
      "cell_type": "markdown",
      "source": [
        "10. Create a Python program that uses filter() to remove all the vowels from a given string."
      ],
      "metadata": {
        "id": "aXWKjyofv0er"
      }
    },
    {
      "cell_type": "code",
      "source": [
        "def remove_vowels(string):\n",
        "    vowels = \"aeiouAEIOU\"\n",
        "    filtered_string = \"\".join(filter(lambda char: char not in vowels, string))\n",
        "    return filtered_string\n",
        "\n",
        "\n",
        "remove_vowels(\"ram\")"
      ],
      "metadata": {
        "id": "aetuX_uxv3Ff"
      },
      "execution_count": null,
      "outputs": []
    },
    {
      "cell_type": "markdown",
      "source": [
        "11. Write a Python program, which returns a list with 2-tuples. Each tuple consists of the order number and the\n",
        "product of the price per item and the quantity. The product should be increased by 10,- € if the value of the\n",
        "order is smaller than 100,00 €.\n",
        "\n",
        "Write a Python program using lambda and map."
      ],
      "metadata": {
        "id": "NsoBQuw-yoW5"
      }
    },
    {
      "cell_type": "code",
      "source": [
        "# List of orders: (order_id, quantity, price)\n",
        "orders = [\n",
        "    (34587, 4, 40.95),\n",
        "    (98762, 5, 56.80),\n",
        "    (77226, 3, 32.95),\n",
        "    (88112, 3, 24.99)\n",
        "]\n",
        "\n",
        "# Using map and lambda to calculate total cost with conditions\n",
        "result = list(map(\n",
        "    lambda order: (order[0], round(order[1] * order[2] + (10 if order[1] * order[2] < 100 else 0), 2)),\n",
        "    orders\n",
        "))\n",
        "\n",
        "print(result)\n",
        "\n"
      ],
      "metadata": {
        "id": "nW9o202ByNmY"
      },
      "execution_count": null,
      "outputs": []
    }
  ]
}