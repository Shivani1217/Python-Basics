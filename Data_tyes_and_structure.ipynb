{
  "nbformat": 4,
  "nbformat_minor": 0,
  "metadata": {
    "colab": {
      "provenance": [],
      "collapsed_sections": [
        "BYr0OpOeTMTd"
      ]
    },
    "kernelspec": {
      "name": "python3",
      "display_name": "Python 3"
    },
    "language_info": {
      "name": "python"
    }
  },
  "cells": [
    {
      "cell_type": "markdown",
      "source": [
        "# Data types and structure assignment"
      ],
      "metadata": {
        "id": "BYr0OpOeTMTd"
      }
    },
    {
      "cell_type": "markdown",
      "source": [
        "1. What are data structures, and why are they important ?\n",
        "- Data structures play a pivotal role in computer science and programming, as they are essential for storing,organizing, and manipulating data efficiently.\n",
        "- In Python, a versatile and popular programming language, provides a wide array of data structures toaccommodate various needs.\n",
        "- Data Handling: Programming often involves working with data, which can be numbers, text, or more complex information. Data structures are like specialized containers that help us manage this data efficiently.\n",
        "- Organization: Just as you use different shelves, drawers, and containers at home to organize various items, in programming, you use different data structures to organize different types of data.\n",
        "- Efficiency: The choice of data structure can significantly impact how quickly you can access, manipulate, and process your data. Picking the right data structure is crucial for writing efficient code.\n",
        "- Flexibility: Different data structures serve different purposes. Some are great for storing lots of data, while others are optimized for quick searches or data retrieval.\n",
        "- Built-in Tools: Python provides a rich set of built-in data structures that make it easier for programmers to handle common data management tasks without having to build everything from scratch.\n",
        "- Real-World Analogy: You can think of data structures as tools in your toolbox. For example, if you want to organize your books, you might use a bookshelf (analogous to a list). If you want to store unique items, like a collection of rare coins, you'd use a display case (analogous to a set).\n",
        "-"
      ],
      "metadata": {
        "id": "S_U2wcd-TZ8f"
      }
    },
    {
      "cell_type": "markdown",
      "source": [
        "2. Explain difference between mutable and immutable data types with exaples.\n",
        "- Mutable Data Types: These can be changed after creation. You can modify, or remove elements without creating a new object. Exaples of Mutable data type is list, dict, set.\n",
        "- Immutable Data Type: These can not be changed. If you want to do modification creates a new object in memory. Example of immutable data type is int, float, string, tuple."
      ],
      "metadata": {
        "id": "xNwt5IEpXuVf"
      }
    },
    {
      "cell_type": "markdown",
      "source": [
        "3. What are the main difference between list and tuples in python?\n",
        "- Lists: It is mutable, can be changed(add, remove, modify elements). It is defined using square brackets []. It is slower than tuples because it allow modification.\n",
        "- Tuples: It is immutable, can not be changed after creation. It is defined using parenthesis(). It is faster than lists because it used when data is not changed.\n"
      ],
      "metadata": {
        "id": "5pX9LFF2aia8"
      }
    },
    {
      "cell_type": "markdown",
      "source": [
        "4. Describe how dictionaries store data.\n",
        "- Dictionaries are a data structure in Python that store data as key-value pairs.\n",
        "- They are unordered collections and are defined using curly braces {}.\n",
        "- Keys are unique and immutable, while values can be of any data type.\n",
        "- Dictionaries are created using {} and key-value pairs separated by colons.\n",
        "- Elements are accessed by referencing their keys using square brackets []."
      ],
      "metadata": {
        "id": "aM-fncp4b__5"
      }
    },
    {
      "cell_type": "code",
      "source": [
        "my_dict = {\"Name\" : \"Shivani\", \"Age\" : 19, \"City\" : \"Delhi\"} # name is key and shivani is value\n",
        "print(my_dict[\"Name\"])"
      ],
      "metadata": {
        "colab": {
          "base_uri": "https://localhost:8080/"
        },
        "id": "yvtrQ3V5ZPjJ",
        "outputId": "d3fee4e4-8866-4e19-8f62-d47421edac4f"
      },
      "execution_count": null,
      "outputs": [
        {
          "output_type": "stream",
          "name": "stdout",
          "text": [
            "Shivani\n"
          ]
        }
      ]
    },
    {
      "cell_type": "markdown",
      "source": [
        "5. Why might you use a set instead of a list in python?\n",
        "- In Python, you might use a **set instead of a list** when you want to store **unique elements** without worrying about order. Unlike lists, sets automatically remove duplicates and do not maintain insertion order. They are also much faster for **lookups, insertions, and deletions** because they use hashing, whereas lists need to search through elements one by one. Sets are especially useful when you need to check membership quickly (e.g., whether an item exists in a collection) or perform **mathematical operations** like union, intersection, and difference. On the other hand, lists are better when the order of elements matters or when duplicates need to be preserved. In short, sets are chosen for **uniqueness and speed**, while lists are chosen for **order and flexibility**.\n"
      ],
      "metadata": {
        "id": "3jUbPo7meH3U"
      }
    },
    {
      "cell_type": "markdown",
      "source": [
        "6. What is string in python, and how it is different from list?\n",
        "- String in python is a sequence of characters enclosed in either single quotes(''), double quotes(\" \"), or triple quotes(''' '''/\"\"\" \"\"\"). String are immutable, it cannot be changed. for eg- if you try to modify a character inside a string, python will create a new string instead of changing the original one. Strings are commonly used to mstore text data such as names, messages, or any sequence of characters.\n",
        "- A list is a collection of items. Unlike strings, lists are mutable, it can be changed after created. String only contains characters, whereas list can hold different data types like numbers, strings, object, etc. String uses quotes \"hello\", where list using square bracket [1,2,3].Both support indexing, slicing, and iteration, but only list allow modification."
      ],
      "metadata": {
        "id": "mR8Motafe5aG"
      }
    },
    {
      "cell_type": "markdown",
      "source": [
        "7. How do tuples ensure data integrity in Python?\n",
        "- In python tuples help ensure data inegrity because they are immutable, once created their elements cannot be changed, added, or removed. It means the data remain s fixed and safe from accidental changes.\n",
        "- It is hashable, they can be used as keys in dictionaries or elements in sets. This allows tuples to represent constant identifiers for data.\n",
        "- It is predictable and reliable like configuartion values, fixed records, database results."
      ],
      "metadata": {
        "id": "g8SVkra3vpry"
      }
    },
    {
      "cell_type": "markdown",
      "source": [
        "8. What is a hash table, and how does it relate to dictionaries in Python?\n",
        "- A hash table is a data structure that stores data in key-value pairs. It uses a hash function to convert a key into a hash value and this decides where the value is stored in memory. This is much quicker than searching through a list. because each key is hashed, duplicate ovrwrites previous values."
      ],
      "metadata": {
        "id": "OVRvANXYxlyR"
      }
    },
    {
      "cell_type": "markdown",
      "source": [
        "9. Can lists contain different data types in Python?\n",
        "- yes in python list can contain elements of diffrent data types because lists are heterogenous container and in python variables don't store data types directly, it stores references to objects. A list just stores references, so each element can be of a different types."
      ],
      "metadata": {
        "id": "j1KcY2N5zACF"
      }
    },
    {
      "cell_type": "code",
      "source": [
        "# List can store different data types\n",
        "my_list = [1, \"Hello\", True, 3.14]\n",
        "print(my_list)"
      ],
      "metadata": {
        "colab": {
          "base_uri": "https://localhost:8080/"
        },
        "id": "BVbypFw-ZdxJ",
        "outputId": "5511a5b7-2614-4584-8940-1f3b82e36edb"
      },
      "execution_count": null,
      "outputs": [
        {
          "output_type": "stream",
          "name": "stdout",
          "text": [
            "[1, 'Hello', True, 3.14]\n"
          ]
        }
      ]
    },
    {
      "cell_type": "markdown",
      "source": [
        "10. Explain why strings are immutable in Python.\n",
        "- Efficiency of strings are commonly used as dictionary keys and in sets. Immutability ensures that the hash value of as string never changes.\n",
        "- Bacause strings are widely used , immutability prevents accidental changes, like if multiple variable references a same string, none of them can alter it.\n",
        "- Memory optimization in strings"
      ],
      "metadata": {
        "id": "r4r9TSBbz_zt"
      }
    },
    {
      "cell_type": "markdown",
      "source": [
        "11. What advantages do dictionaries offer over lists for certain tasks?\n",
        "- Key Values mapping: In dict we can access data by meaningful keys, not just index options. This makes code more readable and intuitive.\n",
        "- Flexibility with keys: Dict keys can be numbers, strings or even tuples(if hashable).List only uses integer indexes.\n",
        "- Fast lookups: In list searching for an item takes propotional to the list size. In dict uses a hash table, so loking up a value by key is very fast on average.\n",
        "- Avoid Duplicacy: dict prevents accidental duplicate entries. List allow duplicate items, which causes confusion in searching."
      ],
      "metadata": {
        "id": "w1Va21Gs1YFM"
      }
    },
    {
      "cell_type": "markdown",
      "source": [
        "12. Describe a scenario where using a tuple would be preferable over a list.\n",
        "- let's take an example of a program that stores geographic coordintes of cities.\n",
        "- Coordinates shouldn't changed once set like delhi will always be at the same lat/long. So tuples are immutable it protect against accidental modification.\n",
        "- Tuples are slightly more memory-efficient and faster than lists. It is useful when you have many fixed records."
      ],
      "metadata": {
        "id": "eLcaGC4F3LtM"
      }
    },
    {
      "cell_type": "markdown",
      "source": [
        "13. How do sets handle duplicate values in Python?\n",
        "- A set is an unorderd collection of unique elements. Sets automatically remove duplicate values, is you try to add the same elements more than once, only one copy is stored. Because sets are implemented using hash table keys must be unique. So python automatically ensures that each elements appears only once."
      ],
      "metadata": {
        "id": "Z0VgQHh54lPe"
      }
    },
    {
      "cell_type": "code",
      "source": [
        "# Sets stores unique values\n",
        "my_set = {1,2,3,4,5,5,5,5}\n",
        "print(my_set) # Here only unique elements are print repated occurs only once in set"
      ],
      "metadata": {
        "colab": {
          "base_uri": "https://localhost:8080/"
        },
        "id": "jxOSgEUaZsVJ",
        "outputId": "f47634c7-8694-4fcc-b8d4-be3dcbc85dda"
      },
      "execution_count": null,
      "outputs": [
        {
          "output_type": "stream",
          "name": "stdout",
          "text": [
            "{1, 2, 3, 4, 5}\n"
          ]
        }
      ]
    },
    {
      "cell_type": "markdown",
      "source": [
        "14.  How does the “in” keyword work differently for lists and dictionaries?\n",
        "- In List: 'in' checks if a value exists in the list, python scans each elements one by one .\n",
        "- In dict: 'in' checks if a key exists, not the value, python uses the dict hash tables, so lookup is very fast."
      ],
      "metadata": {
        "id": "uizge4Rq5tGm"
      }
    },
    {
      "cell_type": "code",
      "source": [
        "my_list = [1,2,3,4,5]\n",
        "print(3 in my_list) # checks elements of list\n",
        "my_dict = {\"Name\" : \"Shivani\", \"Age\" : 19, \"City\" : \"Delhi\"}\n",
        "print(\"Name\" in my_dict) # checks key of dict"
      ],
      "metadata": {
        "colab": {
          "base_uri": "https://localhost:8080/"
        },
        "id": "Jk7WFhEyaBZb",
        "outputId": "13268c8b-d37d-4c88-adc2-789bbe64c4d8"
      },
      "execution_count": null,
      "outputs": [
        {
          "output_type": "stream",
          "name": "stdout",
          "text": [
            "True\n",
            "True\n"
          ]
        }
      ]
    },
    {
      "cell_type": "markdown",
      "source": [
        "15. Can you modify the elements of a tuple? Explain why or why not?\n",
        "- No we cannot modify the elements of tuple, because tuples are immutable once it created its content cannot be changed, added, or removed and it ensures data safety, consistency, and allow them yto be hashable."
      ],
      "metadata": {
        "id": "I2X4A0GL6dj-"
      }
    },
    {
      "cell_type": "code",
      "source": [
        "my_tuple = (1,24,6,4,7)\n",
        "print(my_tuple)\n",
        "my_tuple[0] = 10 #cannot modify the elements of tuple\n",
        "print(my_tuple)"
      ],
      "metadata": {
        "colab": {
          "base_uri": "https://localhost:8080/",
          "height": 211
        },
        "id": "NAU5-yvvaPsm",
        "outputId": "c57aa89f-81c2-486a-aaae-96de4244183d"
      },
      "execution_count": null,
      "outputs": [
        {
          "output_type": "stream",
          "name": "stdout",
          "text": [
            "(1, 24, 6, 4, 7)\n"
          ]
        },
        {
          "output_type": "error",
          "ename": "TypeError",
          "evalue": "'tuple' object does not support item assignment",
          "traceback": [
            "\u001b[0;31m---------------------------------------------------------------------------\u001b[0m",
            "\u001b[0;31mTypeError\u001b[0m                                 Traceback (most recent call last)",
            "\u001b[0;32m/tmp/ipython-input-717236999.py\u001b[0m in \u001b[0;36m<cell line: 0>\u001b[0;34m()\u001b[0m\n\u001b[1;32m      1\u001b[0m \u001b[0mmy_tuple\u001b[0m \u001b[0;34m=\u001b[0m \u001b[0;34m(\u001b[0m\u001b[0;36m1\u001b[0m\u001b[0;34m,\u001b[0m\u001b[0;36m24\u001b[0m\u001b[0;34m,\u001b[0m\u001b[0;36m6\u001b[0m\u001b[0;34m,\u001b[0m\u001b[0;36m4\u001b[0m\u001b[0;34m,\u001b[0m\u001b[0;36m7\u001b[0m\u001b[0;34m)\u001b[0m\u001b[0;34m\u001b[0m\u001b[0;34m\u001b[0m\u001b[0m\n\u001b[1;32m      2\u001b[0m \u001b[0mprint\u001b[0m\u001b[0;34m(\u001b[0m\u001b[0mmy_tuple\u001b[0m\u001b[0;34m)\u001b[0m\u001b[0;34m\u001b[0m\u001b[0;34m\u001b[0m\u001b[0m\n\u001b[0;32m----> 3\u001b[0;31m \u001b[0mmy_tuple\u001b[0m\u001b[0;34m[\u001b[0m\u001b[0;36m0\u001b[0m\u001b[0;34m]\u001b[0m \u001b[0;34m=\u001b[0m \u001b[0;36m10\u001b[0m\u001b[0;34m\u001b[0m\u001b[0;34m\u001b[0m\u001b[0m\n\u001b[0m\u001b[1;32m      4\u001b[0m \u001b[0mprint\u001b[0m\u001b[0;34m(\u001b[0m\u001b[0mmy_tuple\u001b[0m\u001b[0;34m)\u001b[0m\u001b[0;34m\u001b[0m\u001b[0;34m\u001b[0m\u001b[0m\n",
            "\u001b[0;31mTypeError\u001b[0m: 'tuple' object does not support item assignment"
          ]
        }
      ]
    },
    {
      "cell_type": "markdown",
      "source": [
        "16. What is a nested dictionary, and give an example of its use case?\n",
        "- A nested dictionary in python is a dict that contains another dict as its values. This is useful for representing hierarchical or structural data."
      ],
      "metadata": {
        "id": "4IzpsbMv7ekd"
      }
    },
    {
      "cell_type": "code",
      "source": [
        "# example of Nested dict\n",
        "students = {\"A\" : {\"Maths\":89, \"Science\" : 99, \"English\" : 87}, \"B\" : {\"Maths\":89, \"Science\" : 99, \"English\" : 87}}\n",
        "print(students)"
      ],
      "metadata": {
        "colab": {
          "base_uri": "https://localhost:8080/"
        },
        "id": "I7NdyI978MTD",
        "outputId": "e874b0e5-d058-46bf-c51d-f45fcd1d1df7"
      },
      "execution_count": null,
      "outputs": [
        {
          "output_type": "stream",
          "name": "stdout",
          "text": [
            "{'A': {'Maths': 89, 'Science': 99, 'English': 87}, 'B': {'Maths': 89, 'Science': 99, 'English': 87}}\n"
          ]
        }
      ]
    },
    {
      "cell_type": "markdown",
      "source": [
        "17. Describe the time complexity of accessing elements in a dictionary.\n",
        "- Acsess by key: Average case=O(1), Worst case=O(n).\n",
        "- Insertion/update: Average case=O(1), Worst case=O(n).\n",
        "- Deletion: Average case=O(1), Worst case=O(n)."
      ],
      "metadata": {
        "id": "1QexbG5A8t0l"
      }
    },
    {
      "cell_type": "markdown",
      "source": [
        "18.  In what situations are lists preferred over dictionaries.\n",
        "- Orderd Collection: List maintain order of element while dict cannot. Use when order matters.\n",
        "- Index-Based Access: List allow direct access by position, for frequent access of elements.\n",
        "- Iteration: List are collection of similar itemns that you want iterate over, sort, or perform operations on. These are some situaions."
      ],
      "metadata": {
        "id": "MIogoO3j9pEy"
      }
    },
    {
      "cell_type": "markdown",
      "source": [
        "19. Why are dictionaries considered unordered, and how does that affect data retrieval?\n",
        "- Python dict is implemented using a hash table, keys are detremine where their value are stored in memory.  \n",
        "- It affects data retrieval- fast access of keys, when ieterating over a dict, keys may appear in any order.cannot access by index"
      ],
      "metadata": {
        "id": "5BviPsBp-3bL"
      }
    },
    {
      "cell_type": "markdown",
      "source": [
        "20. Explain the difference between a list and a dictionary in terms of data retrieval.\n",
        "- Lists\n",
        "1. Ordered collection: Lists are ordered collections of items that can be of any data type, including strings, integers, floats, and other lists.\n",
        "2. Indexed access: Elements in a list are accessed using their index (position in the list), which is an integer starting from 0.\n",
        "3. Example: my_list = [1, 2, 3], access elements using my_list[0], my_list[1], etc.\n",
        "\n",
        "Dictionaries\n",
        "1. Key-value pairs: Dictionaries store data as key-value pairs.\n",
        "2. Key-based access: Elements in a dictionary are accessed using their keys, which can be of any immutable type (like strings, integers).\n",
        "3. Example: my_dict = {'name': 'John', 'age': 30}, access elements using my_dict['name'], my_dict['age'].\n",
        "\n",
        "Data Retrieval Differences\n",
        "- Lists: Retrieval is based on index (position). You need to know the index to access an element.\n",
        "- Dictionaries: Retrieval is based on keys. You access a value by its associated key.\n",
        "- Speed: Dictionary lookups are generally faster for large datasets when you know the key (O(1) average time complexity).\n",
        "- Flexibility: Dictionaries are useful when data is naturally paired with identifiers (keys), while lists are good for ordered collections or when index-based access is needed.\n"
      ],
      "metadata": {
        "id": "EAWwip-j_-fq"
      }
    },
    {
      "cell_type": "markdown",
      "source": [
        "# Practical questions"
      ],
      "metadata": {
        "id": "c-vpY-wkiNz0"
      }
    },
    {
      "cell_type": "markdown",
      "source": [
        "1. Write a code to create a string with your name and print it."
      ],
      "metadata": {
        "id": "Rn6LXTR_ilrw"
      }
    },
    {
      "cell_type": "code",
      "source": [
        "name = \"Shivani\"\n",
        "print(name)"
      ],
      "metadata": {
        "colab": {
          "base_uri": "https://localhost:8080/"
        },
        "id": "WAHWihHyjAF7",
        "outputId": "20321ff7-b86a-422a-c925-f56b3b3f5c2f"
      },
      "execution_count": null,
      "outputs": [
        {
          "output_type": "stream",
          "name": "stdout",
          "text": [
            "Shivani\n"
          ]
        }
      ]
    },
    {
      "cell_type": "markdown",
      "source": [
        "2. Write a code to find the length of the string \"Hello World\" ?\n"
      ],
      "metadata": {
        "id": "4q5QguH5jOjE"
      }
    },
    {
      "cell_type": "code",
      "source": [
        "my_str = \"Hello World\"\n",
        "print(len(my_str))"
      ],
      "metadata": {
        "colab": {
          "base_uri": "https://localhost:8080/"
        },
        "id": "HJ4H49oujRoG",
        "outputId": "07b8c31e-646e-4eae-9cb6-c2c6d6ffe707"
      },
      "execution_count": null,
      "outputs": [
        {
          "output_type": "stream",
          "name": "stdout",
          "text": [
            "11\n"
          ]
        }
      ]
    },
    {
      "cell_type": "markdown",
      "source": [
        "3. Write a code to slice the first 3 characters from the string \"Python Programming\"."
      ],
      "metadata": {
        "id": "3N1KPyfQjiMD"
      }
    },
    {
      "cell_type": "code",
      "source": [
        "my_str  = \"Python Programming\"\n",
        "print(my_str[:3])"
      ],
      "metadata": {
        "colab": {
          "base_uri": "https://localhost:8080/"
        },
        "id": "_D_6rzYPkA-_",
        "outputId": "a9813460-ec46-4aea-d7d0-0d24db970ee1"
      },
      "execution_count": null,
      "outputs": [
        {
          "output_type": "stream",
          "name": "stdout",
          "text": [
            "Pyt\n"
          ]
        }
      ]
    },
    {
      "cell_type": "markdown",
      "source": [
        "4. Write a code to convert the string \"hello\" to uppercase."
      ],
      "metadata": {
        "id": "4OCsls0ukN2g"
      }
    },
    {
      "cell_type": "code",
      "source": [
        "my_str = \"hello\"\n",
        "print(my_str.upper())\n"
      ],
      "metadata": {
        "colab": {
          "base_uri": "https://localhost:8080/"
        },
        "id": "3bInZ1ASkTSM",
        "outputId": "66c85acd-dbc6-4c5f-e232-62decc2068fc"
      },
      "execution_count": null,
      "outputs": [
        {
          "output_type": "stream",
          "name": "stdout",
          "text": [
            "HELLO\n"
          ]
        }
      ]
    },
    {
      "cell_type": "markdown",
      "source": [
        "5. Write a code to replace the word \"apple\" with \"orange\" in the string  \"I like apple\"."
      ],
      "metadata": {
        "id": "tNJy8CX7kdEw"
      }
    },
    {
      "cell_type": "code",
      "source": [
        "my_str = \"I like apple\"\n",
        "my_str.replace(\"apple\", \"orange\")\n",
        "print (my_str)"
      ],
      "metadata": {
        "colab": {
          "base_uri": "https://localhost:8080/"
        },
        "id": "owGcfs18kpoF",
        "outputId": "1fb9498c-6a44-4073-8753-20539875d1be"
      },
      "execution_count": null,
      "outputs": [
        {
          "output_type": "stream",
          "name": "stdout",
          "text": [
            "I like apple\n"
          ]
        }
      ]
    },
    {
      "cell_type": "markdown",
      "source": [
        "6. Write a code to create a list with numbers 1 to 5 and print it."
      ],
      "metadata": {
        "id": "eL64I6Kxk6sr"
      }
    },
    {
      "cell_type": "code",
      "source": [
        "my_list = [1,2,3,4,5]\n",
        "print(my_list)"
      ],
      "metadata": {
        "colab": {
          "base_uri": "https://localhost:8080/"
        },
        "id": "RcX86NS4lDI5",
        "outputId": "5ca3f3a8-e29f-4e13-c42c-fc512dbbe4d0"
      },
      "execution_count": null,
      "outputs": [
        {
          "output_type": "stream",
          "name": "stdout",
          "text": [
            "[1, 2, 3, 4, 5]\n"
          ]
        }
      ]
    },
    {
      "cell_type": "markdown",
      "source": [
        "7. Write a code to append the number 10 to the list [1, 2, 3, 4]."
      ],
      "metadata": {
        "id": "GV0InUlllJhT"
      }
    },
    {
      "cell_type": "code",
      "source": [
        "my_list = [1,2,3,4]\n",
        "my_list.append(10)\n",
        "print(my_list)"
      ],
      "metadata": {
        "colab": {
          "base_uri": "https://localhost:8080/"
        },
        "id": "X0arSxsZlPj0",
        "outputId": "c2ab9574-e9e5-4384-c758-778f7a6e6738"
      },
      "execution_count": null,
      "outputs": [
        {
          "output_type": "stream",
          "name": "stdout",
          "text": [
            "[1, 2, 3, 4, 10]\n"
          ]
        }
      ]
    },
    {
      "cell_type": "markdown",
      "source": [
        "8. Write a code to remove the number 3 from the list [1, 2, 3, 4, 5]."
      ],
      "metadata": {
        "id": "L09QUaZSlaas"
      }
    },
    {
      "cell_type": "code",
      "source": [
        "my_list = [1,2,3,4,5]\n",
        "my_list.remove(3)\n",
        "print(my_list)"
      ],
      "metadata": {
        "colab": {
          "base_uri": "https://localhost:8080/"
        },
        "id": "Rj6nkwYbljnZ",
        "outputId": "83d54644-dbe9-43bb-f444-d9b7d6057f63"
      },
      "execution_count": null,
      "outputs": [
        {
          "output_type": "stream",
          "name": "stdout",
          "text": [
            "[1, 2, 4, 5]\n"
          ]
        }
      ]
    },
    {
      "cell_type": "markdown",
      "source": [
        "9. Write a code to access the second element in the list ['a', 'b', 'c', 'd']."
      ],
      "metadata": {
        "id": "Q84oS7bRls26"
      }
    },
    {
      "cell_type": "code",
      "source": [
        "my_list = ['a', 'b', 'c', 'd']\n",
        "print(my_list[1])"
      ],
      "metadata": {
        "colab": {
          "base_uri": "https://localhost:8080/"
        },
        "id": "k1OKxPS7lvZI",
        "outputId": "14848ffa-96c1-4061-c6a2-9f93700b2c65"
      },
      "execution_count": null,
      "outputs": [
        {
          "output_type": "stream",
          "name": "stdout",
          "text": [
            "b\n"
          ]
        }
      ]
    },
    {
      "cell_type": "markdown",
      "source": [
        "10. Write a code to reverse the list [10, 20, 30, 40, 50]."
      ],
      "metadata": {
        "id": "uEaekBSnmCHF"
      }
    },
    {
      "cell_type": "code",
      "source": [
        "my_list = [10,20,30, 40, 50]\n",
        "my_list.reverse()\n",
        "print(my_list)"
      ],
      "metadata": {
        "colab": {
          "base_uri": "https://localhost:8080/"
        },
        "id": "b7XgGb2imE7g",
        "outputId": "8c429639-6df7-4ee1-c0ce-6eaa186aaa2e"
      },
      "execution_count": null,
      "outputs": [
        {
          "output_type": "stream",
          "name": "stdout",
          "text": [
            "[50, 40, 30, 20, 10]\n"
          ]
        }
      ]
    },
    {
      "cell_type": "markdown",
      "source": [
        "11.  Write a code to create a tuple with the elements 100, 200, 300 and print it."
      ],
      "metadata": {
        "id": "NSOEU41XRpfb"
      }
    },
    {
      "cell_type": "code",
      "source": [
        "my_tuple = (100,200,300)\n",
        "print(my_tuple)"
      ],
      "metadata": {
        "colab": {
          "base_uri": "https://localhost:8080/"
        },
        "id": "CAGu0JdlRr3_",
        "outputId": "c5d8d71d-5bd4-4bb3-e342-42df456fc4d9"
      },
      "execution_count": null,
      "outputs": [
        {
          "output_type": "stream",
          "name": "stdout",
          "text": [
            "(100, 200, 300)\n"
          ]
        }
      ]
    },
    {
      "cell_type": "markdown",
      "source": [
        "12.  Write a code to access the second-to-last element of the tuple ('red', 'green', 'blue', 'yellow')."
      ],
      "metadata": {
        "id": "Eem-csEZR4Yv"
      }
    },
    {
      "cell_type": "code",
      "source": [
        "my_tuple = ('red', 'green', 'blue', 'yellow')\n",
        "print(my_tuple[-2])"
      ],
      "metadata": {
        "colab": {
          "base_uri": "https://localhost:8080/"
        },
        "id": "4K4l7A5lR6wm",
        "outputId": "be4da177-c59f-4a72-a27b-8d73f4a5a1ab"
      },
      "execution_count": null,
      "outputs": [
        {
          "output_type": "stream",
          "name": "stdout",
          "text": [
            "blue\n"
          ]
        }
      ]
    },
    {
      "cell_type": "markdown",
      "source": [
        "13.  Write a code to find the minimum number in the tuple (10, 20, 5, 15)."
      ],
      "metadata": {
        "id": "jWYTCOKDSM_k"
      }
    },
    {
      "cell_type": "code",
      "source": [
        "my_tuple = (10, 20, 5, 15)\n",
        "print(\"Minimum Number is:\",min(my_tuple))"
      ],
      "metadata": {
        "colab": {
          "base_uri": "https://localhost:8080/"
        },
        "id": "tEE6cwZFSPAN",
        "outputId": "9a7db771-29fa-4043-9295-42126144e43e"
      },
      "execution_count": null,
      "outputs": [
        {
          "output_type": "stream",
          "name": "stdout",
          "text": [
            "Minimum Number is: 5\n"
          ]
        }
      ]
    },
    {
      "cell_type": "markdown",
      "source": [
        "14. Write a code to find the index of the element \"cat\" in the tuple ('dog', 'cat', 'rabbit')."
      ],
      "metadata": {
        "id": "fkz9g0C5Sfb0"
      }
    },
    {
      "cell_type": "code",
      "source": [
        "my_tuple = ('dog', 'cat', 'rabbit')\n",
        "print(\"Index of cat is:\",my_tuple.index(\"cat\"))"
      ],
      "metadata": {
        "colab": {
          "base_uri": "https://localhost:8080/"
        },
        "id": "V8iWJDruSg9T",
        "outputId": "76ed7b13-a6d7-460f-ef34-c57d3f57b693"
      },
      "execution_count": null,
      "outputs": [
        {
          "output_type": "stream",
          "name": "stdout",
          "text": [
            "Index of cat is: 1\n"
          ]
        }
      ]
    },
    {
      "cell_type": "markdown",
      "source": [
        "15. Write a code to create a tuple containing three different fruits and check if \"kiwi\" is in it."
      ],
      "metadata": {
        "id": "1n2x0mjfS4j3"
      }
    },
    {
      "cell_type": "code",
      "source": [
        "my_tuple = (\"apple\", \"banana\", \"orange\", \"kiwi\")\n",
        "print(\"kiwi\" in my_tuple)"
      ],
      "metadata": {
        "colab": {
          "base_uri": "https://localhost:8080/"
        },
        "id": "-Yu5EprsS6hP",
        "outputId": "a01b1d65-a05f-4753-e534-7e282f691785"
      },
      "execution_count": null,
      "outputs": [
        {
          "output_type": "stream",
          "name": "stdout",
          "text": [
            "True\n"
          ]
        }
      ]
    },
    {
      "cell_type": "markdown",
      "source": [
        "16.  Write a code to create a set with the elements 'a', 'b', 'c' and print it."
      ],
      "metadata": {
        "id": "vht-qdbeTLt9"
      }
    },
    {
      "cell_type": "code",
      "source": [
        "my_set = {'a', 'b','c'}\n",
        "print(my_set)"
      ],
      "metadata": {
        "colab": {
          "base_uri": "https://localhost:8080/"
        },
        "id": "WBhqos6yTK7M",
        "outputId": "daf3cc0c-ef3a-4da2-8cd9-6b54c7e1246d"
      },
      "execution_count": null,
      "outputs": [
        {
          "output_type": "stream",
          "name": "stdout",
          "text": [
            "{'a', 'b', 'c'}\n"
          ]
        }
      ]
    },
    {
      "cell_type": "markdown",
      "source": [
        "17. Write a code to clear all elements from the set {1, 2, 3, 4, 5}."
      ],
      "metadata": {
        "id": "8gfE7ej0TjR0"
      }
    },
    {
      "cell_type": "code",
      "source": [
        "my_set = {1, 2, 3, 4, 5}\n",
        "my_set.clear()\n",
        "print(my_set)"
      ],
      "metadata": {
        "colab": {
          "base_uri": "https://localhost:8080/"
        },
        "id": "0hVKJqsKTobf",
        "outputId": "c2dc5c4b-4900-4ef5-f41e-41cc1c849d78"
      },
      "execution_count": null,
      "outputs": [
        {
          "output_type": "stream",
          "name": "stdout",
          "text": [
            "set()\n"
          ]
        }
      ]
    },
    {
      "cell_type": "markdown",
      "source": [
        "18. Write a code to remove the element 4 from the set {1, 2, 3, 4}."
      ],
      "metadata": {
        "id": "rCid6RCiTxl7"
      }
    },
    {
      "cell_type": "code",
      "source": [
        "my_set = {1, 2, 3, 4}\n",
        "my_set.remove(4)\n",
        "print(my_set)"
      ],
      "metadata": {
        "colab": {
          "base_uri": "https://localhost:8080/"
        },
        "id": "HgJzVzC3Tz2b",
        "outputId": "a9ac07bc-47d6-4c77-febe-cd93ff03ae62"
      },
      "execution_count": null,
      "outputs": [
        {
          "output_type": "stream",
          "name": "stdout",
          "text": [
            "{1, 2, 3}\n"
          ]
        }
      ]
    },
    {
      "cell_type": "markdown",
      "source": [
        "19. Write a code to find the union of two sets {1, 2, 3} and {3, 4, 5}."
      ],
      "metadata": {
        "id": "iWSKhA_3UHJD"
      }
    },
    {
      "cell_type": "code",
      "source": [
        "my_set1 = {1,2,3}\n",
        "my_set2 = {3,4,5}\n",
        "print(my_set1.union(my_set2))"
      ],
      "metadata": {
        "colab": {
          "base_uri": "https://localhost:8080/"
        },
        "id": "vw0RoqxZUJJk",
        "outputId": "49a1c491-1292-4404-94fe-0c2df0c45797"
      },
      "execution_count": null,
      "outputs": [
        {
          "output_type": "stream",
          "name": "stdout",
          "text": [
            "{1, 2, 3, 4, 5}\n"
          ]
        }
      ]
    },
    {
      "cell_type": "markdown",
      "source": [
        "20.  Write a code to find the intersection of two sets {1, 2, 3} and {2, 3, 4}."
      ],
      "metadata": {
        "id": "Lk7SJia6UmMb"
      }
    },
    {
      "cell_type": "code",
      "source": [
        "my_set1 = {1,2,3}\n",
        "my_set2 = {2,3,4}\n",
        "print(my_set1.intersection(my_set2))"
      ],
      "metadata": {
        "colab": {
          "base_uri": "https://localhost:8080/"
        },
        "id": "CbLU_khlUoRI",
        "outputId": "25807ebb-033c-4e7f-85f9-af256af2c568"
      },
      "execution_count": null,
      "outputs": [
        {
          "output_type": "stream",
          "name": "stdout",
          "text": [
            "{2, 3}\n"
          ]
        }
      ]
    },
    {
      "cell_type": "markdown",
      "source": [
        "21. Write a code to create a dictionary with the keys \"name\", \"age\", and \"city\", and print it."
      ],
      "metadata": {
        "id": "dIBbzN53VF7w"
      }
    },
    {
      "cell_type": "code",
      "source": [
        "my_dict = {\"Name\" : \"Shivani\", \"Age\" : 19, \"City\" : \"Delhi\"}\n",
        "print(my_dict)"
      ],
      "metadata": {
        "colab": {
          "base_uri": "https://localhost:8080/"
        },
        "id": "VHxpozKZVIur",
        "outputId": "7ab87760-15b6-4141-9645-b49781aa6b70"
      },
      "execution_count": null,
      "outputs": [
        {
          "output_type": "stream",
          "name": "stdout",
          "text": [
            "{'Name': 'Shivani', 'Age': 19, 'City': 'Delhi'}\n"
          ]
        }
      ]
    },
    {
      "cell_type": "markdown",
      "source": [
        "22. Write a code to add a new key-value pair \"country\": \"USA\" to the dictionary {'name': 'John', 'age': 25}."
      ],
      "metadata": {
        "id": "N34MbzzpVfCL"
      }
    },
    {
      "cell_type": "code",
      "source": [
        "my_dict = {'name': 'John', 'age': 25}\n",
        "print(my_dict)\n",
        "my_dict[\"Country\"] = \"USA\"\n",
        "print(\"After adding pair\",my_dict)"
      ],
      "metadata": {
        "colab": {
          "base_uri": "https://localhost:8080/"
        },
        "id": "uzYHOL3LVhcV",
        "outputId": "24fffa6a-84ec-4298-bb37-89becc078403"
      },
      "execution_count": null,
      "outputs": [
        {
          "output_type": "stream",
          "name": "stdout",
          "text": [
            "{'name': 'John', 'age': 25}\n",
            "After adding pair {'name': 'John', 'age': 25, 'Country': 'USA'}\n"
          ]
        }
      ]
    },
    {
      "cell_type": "markdown",
      "source": [
        "23. Write a code to access the value associated with the key \"name\" in the dictionary {'name': 'Alice', 'age': 30}."
      ],
      "metadata": {
        "id": "GNQL4DzAV6QU"
      }
    },
    {
      "cell_type": "code",
      "source": [
        "my_dict = {'name': 'Alice', 'age': 30}\n",
        "print(my_dict[\"name\"])\n"
      ],
      "metadata": {
        "colab": {
          "base_uri": "https://localhost:8080/"
        },
        "id": "p_cmOqWfV8Z_",
        "outputId": "6917de38-44a0-482a-f889-453fbdef3630"
      },
      "execution_count": null,
      "outputs": [
        {
          "output_type": "stream",
          "name": "stdout",
          "text": [
            "Alice\n"
          ]
        }
      ]
    },
    {
      "cell_type": "markdown",
      "source": [
        "24.  Write a code to remove the key \"age\" from the dictionary {'name': 'Bob', 'age': 22, 'city': 'New York}."
      ],
      "metadata": {
        "id": "TQacwId6WHIv"
      }
    },
    {
      "cell_type": "code",
      "source": [
        "my_dict = {'name': 'Bob', 'age': 22, 'city': 'New York'}\n",
        "my_dict.pop(\"age\")\n",
        "print(my_dict)\n"
      ],
      "metadata": {
        "colab": {
          "base_uri": "https://localhost:8080/"
        },
        "id": "oSJf2zvGWL9a",
        "outputId": "14b186be-a111-46e0-9aa2-b7bf2ef44067"
      },
      "execution_count": null,
      "outputs": [
        {
          "output_type": "stream",
          "name": "stdout",
          "text": [
            "{'name': 'Bob', 'city': 'New York'}\n"
          ]
        }
      ]
    },
    {
      "cell_type": "markdown",
      "source": [
        "25.  Write a code to check if the key \"city\" exists in the dictionary {'name': 'Alice', 'city': 'Paris'}."
      ],
      "metadata": {
        "id": "k9le-2laWTKe"
      }
    },
    {
      "cell_type": "code",
      "source": [
        "my_dict = {'name': 'Alice', 'city': 'Paris'}\n",
        "print(\"city\" in my_dict)"
      ],
      "metadata": {
        "colab": {
          "base_uri": "https://localhost:8080/"
        },
        "id": "vEM4lgmtWabo",
        "outputId": "f2e6c51d-227a-4db9-b6a6-7217d2da32cf"
      },
      "execution_count": null,
      "outputs": [
        {
          "output_type": "stream",
          "name": "stdout",
          "text": [
            "True\n"
          ]
        }
      ]
    },
    {
      "cell_type": "markdown",
      "source": [
        "26.  Write a code to create a list, a tuple, and a dictionary, and print them all."
      ],
      "metadata": {
        "id": "It3wgN7gWngi"
      }
    },
    {
      "cell_type": "code",
      "source": [
        "my_list = [1,2,3,4,5]\n",
        "my_tuple = (1,2,3,4,5)\n",
        "my_dict = {\"Name\" : \"Shivani\", \"Age\" : 19, \"City\" : \"Delhi\"}\n",
        "print(my_list)\n",
        "print(my_tuple)\n",
        "print(my_dict)"
      ],
      "metadata": {
        "colab": {
          "base_uri": "https://localhost:8080/"
        },
        "id": "bzzYZ9MxWpfr",
        "outputId": "fc5608a8-984b-4472-e1c0-1848760d157b"
      },
      "execution_count": null,
      "outputs": [
        {
          "output_type": "stream",
          "name": "stdout",
          "text": [
            "[1, 2, 3, 4, 5]\n",
            "(1, 2, 3, 4, 5)\n",
            "{'Name': 'Shivani', 'Age': 19, 'City': 'Delhi'}\n"
          ]
        }
      ]
    },
    {
      "cell_type": "markdown",
      "source": [
        "27.  Write a code to create a list of 5 random numbers between 1 and 100, sort it in ascending order, and print the\n",
        "result.(replaced)."
      ],
      "metadata": {
        "id": "-ls6bvzrW80D"
      }
    },
    {
      "cell_type": "code",
      "source": [
        "my_list = [34,78,21,93,45]\n",
        "print(my_list)\n",
        "my_list.sort()\n",
        "print(my_list)\n",
        "print(my_list.replace)"
      ],
      "metadata": {
        "colab": {
          "base_uri": "https://localhost:8080/",
          "height": 211
        },
        "id": "vAiLL0x5W_oP",
        "outputId": "f0e11500-4d68-4092-9af7-cfe79ed21d2b"
      },
      "execution_count": 1,
      "outputs": [
        {
          "output_type": "stream",
          "name": "stdout",
          "text": [
            "[34, 78, 21, 93, 45]\n",
            "[21, 34, 45, 78, 93]\n"
          ]
        },
        {
          "output_type": "error",
          "ename": "AttributeError",
          "evalue": "'list' object has no attribute 'replace'",
          "traceback": [
            "\u001b[0;31m---------------------------------------------------------------------------\u001b[0m",
            "\u001b[0;31mAttributeError\u001b[0m                            Traceback (most recent call last)",
            "\u001b[0;32m/tmp/ipython-input-162279165.py\u001b[0m in \u001b[0;36m<cell line: 0>\u001b[0;34m()\u001b[0m\n\u001b[1;32m      3\u001b[0m \u001b[0mmy_list\u001b[0m\u001b[0;34m.\u001b[0m\u001b[0msort\u001b[0m\u001b[0;34m(\u001b[0m\u001b[0;34m)\u001b[0m\u001b[0;34m\u001b[0m\u001b[0;34m\u001b[0m\u001b[0m\n\u001b[1;32m      4\u001b[0m \u001b[0mprint\u001b[0m\u001b[0;34m(\u001b[0m\u001b[0mmy_list\u001b[0m\u001b[0;34m)\u001b[0m\u001b[0;34m\u001b[0m\u001b[0;34m\u001b[0m\u001b[0m\n\u001b[0;32m----> 5\u001b[0;31m \u001b[0mprint\u001b[0m\u001b[0;34m(\u001b[0m\u001b[0mmy_list\u001b[0m\u001b[0;34m.\u001b[0m\u001b[0mreplace\u001b[0m\u001b[0;34m)\u001b[0m\u001b[0;34m\u001b[0m\u001b[0;34m\u001b[0m\u001b[0m\n\u001b[0m",
            "\u001b[0;31mAttributeError\u001b[0m: 'list' object has no attribute 'replace'"
          ]
        }
      ]
    },
    {
      "cell_type": "markdown",
      "source": [
        "28. Write a code to create a list with strings and print the element at the third index."
      ],
      "metadata": {
        "id": "9YWsassXXlZq"
      }
    },
    {
      "cell_type": "code",
      "source": [
        "my_list = []\n",
        "my_list.append(\"Cat\")\n",
        "my_list.append(\"Dog\")\n",
        "my_list.append(\"Cow\")\n",
        "my_list.append(\"Horse\")\n",
        "print(my_list)\n",
        "print(my_list[2])"
      ],
      "metadata": {
        "colab": {
          "base_uri": "https://localhost:8080/"
        },
        "id": "WcTeY4I8XnX2",
        "outputId": "ef91dde4-3a41-45b1-8959-039de84e6d1d"
      },
      "execution_count": null,
      "outputs": [
        {
          "output_type": "stream",
          "name": "stdout",
          "text": [
            "['Cat', 'Dog', 'Cow', 'Horse']\n",
            "Cow\n"
          ]
        }
      ]
    },
    {
      "cell_type": "markdown",
      "source": [
        "29. Write a code to combine two dictionaries into one and print the result."
      ],
      "metadata": {
        "id": "wWl9Lhr2YKN6"
      }
    },
    {
      "cell_type": "code",
      "source": [
        "my_dict1 = {\"name\" : \"shivani\", \"age\" : 19}\n",
        "my_dict2 = {\"city\" : \"Delhi\", \"country\" : \"India\"}\n",
        "my_dict1.update(my_dict2)\n",
        "print(my_dict1)"
      ],
      "metadata": {
        "colab": {
          "base_uri": "https://localhost:8080/"
        },
        "id": "Qs3j5A2OYMOX",
        "outputId": "2a091359-5dcd-48a1-821f-bf5bb0089ed7"
      },
      "execution_count": null,
      "outputs": [
        {
          "output_type": "stream",
          "name": "stdout",
          "text": [
            "{'name': 'shivani', 'age': 19, 'city': 'Delhi', 'country': 'India'}\n"
          ]
        }
      ]
    },
    {
      "cell_type": "markdown",
      "source": [
        "30. Write a code to convert a list of strings into a set."
      ],
      "metadata": {
        "id": "tB8IEduZYf3e"
      }
    },
    {
      "cell_type": "code",
      "source": [
        "my_list = [\"apple\", \"banana\", \"orange\", \"kiwi\"]\n",
        "print(my_list)\n",
        "print(type(my_list))\n",
        "my_set = set(my_list)\n",
        "print(my_set)\n",
        "print(type(my_set))"
      ],
      "metadata": {
        "colab": {
          "base_uri": "https://localhost:8080/"
        },
        "id": "w7uqMvdBYiDk",
        "outputId": "0a42f2a0-8096-44d0-ec3f-2fd65ed565a3"
      },
      "execution_count": null,
      "outputs": [
        {
          "output_type": "stream",
          "name": "stdout",
          "text": [
            "['apple', 'banana', 'orange', 'kiwi']\n",
            "<class 'list'>\n",
            "{'apple', 'banana', 'kiwi', 'orange'}\n",
            "<class 'set'>\n"
          ]
        }
      ]
    }
  ]
}