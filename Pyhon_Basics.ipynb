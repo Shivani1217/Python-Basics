{
  "nbformat": 4,
  "nbformat_minor": 0,
  "metadata": {
    "colab": {
      "provenance": []
    },
    "kernelspec": {
      "name": "python3",
      "display_name": "Python 3"
    },
    "language_info": {
      "name": "python"
    }
  },
  "cells": [
    {
      "cell_type": "markdown",
      "source": [],
      "metadata": {
        "id": "v6gD04acLvMd"
      }
    },
    {
      "cell_type": "markdown",
      "source": [
        "# Python Basic Assignmkent\n",
        "\n",
        "1. What is Python, and why is it popular ?\n",
        "-  Python is a high-level programming language, it is widely used in data science, software development, web development, artificial intelligence, machine learning and many more fields.\n",
        "Python is created by Guido van Rossam in 1991. Python is easy to learn language as compare to many other language because of its simplicity and readibility.\n",
        "- Python is a popular language because it is simple and easy to learn, it's syntax is similar to english. It has more libraries like Numpy, Pandas, Seaborn, Matplotlib, Django etc. these are predefined tools which saves time. It is used in many domains like web development, data analysis, AI, ML,\n",
        "etc. It can be run on windows, macOS, linux, and even in mobile systems. Python is easy, powerful, and flexibile. Python is highly valued skilled in job market.\n",
        "\n",
        "\n",
        "\n",
        "\n"
      ],
      "metadata": {
        "id": "NxHkSl_XLzA-"
      }
    },
    {
      "cell_type": "markdown",
      "source": [
        "2. What is an Interpreter in Python?\n",
        "- An interpreter executes the python code line by line. When we create a python program and save it with .py extension, Interpreter reads each line of code converts it into machine code (which is understand by computer) and execute it.\n",
        "\n"
      ],
      "metadata": {
        "id": "OdTG_n7XgZwH"
      }
    },
    {
      "cell_type": "markdown",
      "source": [
        "3. What are predefined keywords in Python?\n",
        "- In Python, predefined keywords are the reserved words that have predefined purpose and special meaning in the language. We cannot used these keywords as variable name, function name, or class name. Exact of number of keywords may vary slightly with python versions. Keywords are if, else, for, while, break, continue etc."
      ],
      "metadata": {
        "id": "09qCDp6CggqQ"
      }
    },
    {
      "cell_type": "markdown",
      "source": [
        "4. Can keywords be used as variable name?\n",
        "- No,we cannot used as keywords varibale name in python because as we mentioned in previous question, keywords are reserved words which have special meaning and purpose in python . If we used keyword as variable it will throw a error."
      ],
      "metadata": {
        "id": "N2b3CtWeg7F5"
      }
    },
    {
      "cell_type": "code",
      "source": [
        "#Here for is a keyword\n",
        "for = 10\n",
        "print(for)"
      ],
      "metadata": {
        "colab": {
          "base_uri": "https://localhost:8080/",
          "height": 106
        },
        "id": "wMBx_MwVj4zw",
        "outputId": "f276edd9-cea4-48a1-966c-0c02caa80dc6"
      },
      "execution_count": null,
      "outputs": [
        {
          "output_type": "error",
          "ename": "SyntaxError",
          "evalue": "invalid syntax (ipython-input-3263765365.py, line 2)",
          "traceback": [
            "\u001b[0;36m  File \u001b[0;32m\"/tmp/ipython-input-3263765365.py\"\u001b[0;36m, line \u001b[0;32m2\u001b[0m\n\u001b[0;31m    for = 10\u001b[0m\n\u001b[0m        ^\u001b[0m\n\u001b[0;31mSyntaxError\u001b[0m\u001b[0;31m:\u001b[0m invalid syntax\n"
          ]
        }
      ]
    },
    {
      "cell_type": "markdown",
      "source": [
        "5. What is mutability in Python?\n",
        "- In Python, mutability can be defined as the value of an object can be changed after created. In python list, dict, set are mutable we changed the value of object without creating a new object.\n",
        "\n"
      ],
      "metadata": {
        "id": "5dNj7zWkuZLw"
      }
    },
    {
      "cell_type": "markdown",
      "source": [
        "6. Why are lists mutable, but tuples are immutable?\n",
        "- In python, lists is designed as flexible container so we can easily add, remove, or change elements without creating a new objects. Lists stores elements in a dynamic array, that's why we can easily modify elements.\n",
        "- In python, tuples are designed to be fixed collection of items. Once we created a tuple we cannot modified, added, or removed."
      ],
      "metadata": {
        "id": "989BGFUmwdKY"
      }
    },
    {
      "cell_type": "markdown",
      "source": [
        "7. What is the difference between “==” and “is” operators in Python ?\n",
        "- \"==\" is a comparison operator in python which is used to compare the value of two objects and returns true if the values are same,  even in different location.\n",
        "- \"is\" is a identity operator in python, it compares the memory address of two objects returns true only if both variables point to the same object in memory."
      ],
      "metadata": {
        "id": "UwAPhoRMyv1c"
      }
    },
    {
      "cell_type": "code",
      "source": [
        "#\n",
        "a = \"Hello\"\n",
        "b = \"Hello\"\n",
        "print( a==b)\n",
        "print(a is b)"
      ],
      "metadata": {
        "colab": {
          "base_uri": "https://localhost:8080/"
        },
        "id": "WBmHApW30j9o",
        "outputId": "4197bbf0-60e9-4f65-e1f6-7d76cf002d2b"
      },
      "execution_count": null,
      "outputs": [
        {
          "output_type": "stream",
          "name": "stdout",
          "text": [
            "True\n",
            "True\n"
          ]
        }
      ]
    },
    {
      "cell_type": "markdown",
      "source": [
        "8. What are logical operators in Python ?\n",
        "- Logical operators are used to combine conditonal statements and return a boolean Value (True or False). There are three logical operators in python are AND, OR, NOT.\n",
        "- AND : True if both the operands are true or we can say returns true if both condition are true.\n",
        "- OR : True if either of the operands is true. Atleast one condition in true it returns true.\n",
        "- NOT : It returns true if the condition is false. It complements the operands.\n"
      ],
      "metadata": {
        "id": "ZfXs6PNu1Z8C"
      }
    },
    {
      "cell_type": "markdown",
      "source": [
        "9. What is typecasting in python?\n",
        "- Tyecasting means converting one data type to another data type. In python we change the type of variable so we can work with required format. Two types of typecasting in python we use are Implicit and Explicit."
      ],
      "metadata": {
        "id": "qyD5Uf_jgqi-"
      }
    },
    {
      "cell_type": "markdown",
      "source": [
        "10. What is differnce between implicit and explicit type casting?\n",
        "- Implicit typecasting done automatically by python but explicit typecasting is done manually by the programmer.\n",
        "- Implicit typecasting converts a smaller data types into a larger data types but in Explicit typecasting it converts from larger data type into smaller data type\n",
        "- Implicit avoid data loss but in explicit sometimes cause data loss or error if not compatible.\n",
        "- Implicit convert by python but explicit used built-in-function for the conversion like Int(), float(), str() etc.\n"
      ],
      "metadata": {
        "id": "lyxm-Uh-igoR"
      }
    },
    {
      "cell_type": "markdown",
      "source": [
        "11. What is the purpose of conditional statements in python?\n",
        "- The purpose of conditional statements is allows computer to make decision and execute different blocks of code only if condiion is true. It controls the flow of execution based on condition. Different types of conditional statements are used in python are if, if-else, if-elif-else, Nested if.\n",
        "\n"
      ],
      "metadata": {
        "id": "gYAfbwlpmGf-"
      }
    },
    {
      "cell_type": "markdown",
      "source": [
        "12. How  does the elif statement work?\n",
        "- In this case, the if conditon is evaluated first. If it is false, the elif statement will be executed, if it also comes false then else statement will be executed. It is used when you want to check multiple condition."
      ],
      "metadata": {
        "id": "c3dvEIAcomxs"
      }
    },
    {
      "cell_type": "markdown",
      "source": [
        "13. What is the diference between for and while loop?\n",
        "- For Loop : It is used when you kmow how many times you want to repeat a block of code. It iterates over a sequence like list, tuple, string, range etc.\n",
        "- While Loop : It is used when you don't know how many times the loop shoud run. It runs until the given condtion is false."
      ],
      "metadata": {
        "id": "Cv6e7kpbraf4"
      }
    },
    {
      "cell_type": "markdown",
      "source": [
        "14. Describe a scenario where a while loop is more suitable than a for loop.\n",
        "- As we know for loop is used when you know in advance how many times you want to repeat and while loop is used when you don't know beforehand how many times to repeat. Lets take an example: User enter the correct password, we don't know how many times the user will attempt enter the password. A while loop allows us to continue prompting the user until they either enter correct password or exhaust their attempts. More real life scenarios are ATM pin, downloading until success here while is better."
      ],
      "metadata": {
        "id": "YymitAcZs3cX"
      }
    },
    {
      "cell_type": "markdown",
      "source": [
        "# Practical Questions"
      ],
      "metadata": {
        "id": "k5emUcKRtB4Y"
      }
    },
    {
      "cell_type": "markdown",
      "source": [
        "1. Write a python program to print \"Hello World\" ."
      ],
      "metadata": {
        "id": "0IzGGQTVtHWA"
      }
    },
    {
      "cell_type": "code",
      "source": [
        "print(\"Hello World\")"
      ],
      "metadata": {
        "colab": {
          "base_uri": "https://localhost:8080/"
        },
        "id": "4zPwFAR-td6c",
        "outputId": "40691526-2191-4d90-8cd2-4cad5eac061c"
      },
      "execution_count": null,
      "outputs": [
        {
          "output_type": "stream",
          "name": "stdout",
          "text": [
            "Hello World\n"
          ]
        }
      ]
    },
    {
      "cell_type": "markdown",
      "source": [
        "2. Write a Python program that displays your name and age ?"
      ],
      "metadata": {
        "id": "h5Id8t-ytn0J"
      }
    },
    {
      "cell_type": "code",
      "source": [
        "name = \"Shivani\"\n",
        "age = \"19\"\n",
        "print(\"Name:\",name,)\n",
        "print(\"Age:\",age)"
      ],
      "metadata": {
        "colab": {
          "base_uri": "https://localhost:8080/"
        },
        "id": "1wWrx7ZUtw0H",
        "outputId": "14c356fe-24eb-4eee-ab6a-3f9498684c5d"
      },
      "execution_count": 3,
      "outputs": [
        {
          "output_type": "stream",
          "name": "stdout",
          "text": [
            "Name: Shivani\n",
            "Age: 19\n"
          ]
        }
      ]
    },
    {
      "cell_type": "markdown",
      "source": [
        "3. Write code to print all the pre-defined keywords in Python using the keyword library ."
      ],
      "metadata": {
        "id": "11RD1iNDt_Dl"
      }
    },
    {
      "cell_type": "code",
      "source": [
        "import keyword\n",
        "print(keyword.kwlist)"
      ],
      "metadata": {
        "colab": {
          "base_uri": "https://localhost:8080/"
        },
        "id": "O74C3XQ9uJIF",
        "outputId": "10740908-b04b-4942-9660-19c17fc394d4"
      },
      "execution_count": null,
      "outputs": [
        {
          "output_type": "stream",
          "name": "stdout",
          "text": [
            "['False', 'None', 'True', 'and', 'as', 'assert', 'async', 'await', 'break', 'class', 'continue', 'def', 'del', 'elif', 'else', 'except', 'finally', 'for', 'from', 'global', 'if', 'import', 'in', 'is', 'lambda', 'nonlocal', 'not', 'or', 'pass', 'raise', 'return', 'try', 'while', 'with', 'yield']\n"
          ]
        }
      ]
    },
    {
      "cell_type": "markdown",
      "source": [
        "4. Write a program that checks if a given word is a Python keyword."
      ],
      "metadata": {
        "id": "CDEkUE_Xvy7a"
      }
    },
    {
      "cell_type": "code",
      "source": [
        "import keyword\n",
        "word = input(\"Enter a word: \")\n",
        "keywords = keyword.kwlist\n",
        "if word in keywords:\n",
        "  print(\"Given word is Python Keyword\")\n",
        "else:\n",
        "  print(\"It is not a keyword\")"
      ],
      "metadata": {
        "colab": {
          "base_uri": "https://localhost:8080/"
        },
        "id": "wgO4pz28v04K",
        "outputId": "345d20ef-8bc0-4ad8-9db7-3763febcc37d"
      },
      "execution_count": null,
      "outputs": [
        {
          "output_type": "stream",
          "name": "stdout",
          "text": [
            "Enter a word: else\n",
            "Given word is Python Keyword\n"
          ]
        }
      ]
    },
    {
      "cell_type": "markdown",
      "source": [
        "5.  Create a list and tuple in Python, and demonstrate how attempting to change an element works differently\n",
        "for each."
      ],
      "metadata": {
        "id": "c7zneo7exFKL"
      }
    },
    {
      "cell_type": "code",
      "source": [
        "list = [10, 20, 30, 40]\n",
        "tuple = (10, 20, 30, 40)\n",
        "print(list)\n",
        "print(tuple)\n",
        "print(\"List after modification\")\n",
        "list[1] = 50\n",
        "print(list)\n",
        "print(\"Tuple after modification\")\n",
        "tuple[1] = 50 # it gives error tuple does not suppoert item assignment\n",
        "print(tuple)"
      ],
      "metadata": {
        "colab": {
          "base_uri": "https://localhost:8080/",
          "height": 280
        },
        "id": "VUgyeguq0jzs",
        "outputId": "50b00319-2208-43d6-cd5d-046ac97f7a2c"
      },
      "execution_count": 4,
      "outputs": [
        {
          "output_type": "stream",
          "name": "stdout",
          "text": [
            "[10, 20, 30, 40]\n",
            "(10, 20, 30, 40)\n",
            "List after modification\n",
            "[10, 50, 30, 40]\n",
            "Tuple after modification\n"
          ]
        },
        {
          "output_type": "error",
          "ename": "TypeError",
          "evalue": "'tuple' object does not support item assignment",
          "traceback": [
            "\u001b[0;31m---------------------------------------------------------------------------\u001b[0m",
            "\u001b[0;31mTypeError\u001b[0m                                 Traceback (most recent call last)",
            "\u001b[0;32m/tmp/ipython-input-2213551182.py\u001b[0m in \u001b[0;36m<cell line: 0>\u001b[0;34m()\u001b[0m\n\u001b[1;32m      7\u001b[0m \u001b[0mprint\u001b[0m\u001b[0;34m(\u001b[0m\u001b[0mlist\u001b[0m\u001b[0;34m)\u001b[0m\u001b[0;34m\u001b[0m\u001b[0;34m\u001b[0m\u001b[0m\n\u001b[1;32m      8\u001b[0m \u001b[0mprint\u001b[0m\u001b[0;34m(\u001b[0m\u001b[0;34m\"Tuple after modification\"\u001b[0m\u001b[0;34m)\u001b[0m\u001b[0;34m\u001b[0m\u001b[0;34m\u001b[0m\u001b[0m\n\u001b[0;32m----> 9\u001b[0;31m \u001b[0mtuple\u001b[0m\u001b[0;34m[\u001b[0m\u001b[0;36m1\u001b[0m\u001b[0;34m]\u001b[0m \u001b[0;34m=\u001b[0m \u001b[0;36m50\u001b[0m \u001b[0;31m# it gives error tuple does not suppoert item assignment\u001b[0m\u001b[0;34m\u001b[0m\u001b[0;34m\u001b[0m\u001b[0m\n\u001b[0m\u001b[1;32m     10\u001b[0m \u001b[0mprint\u001b[0m\u001b[0;34m(\u001b[0m\u001b[0mtuple\u001b[0m\u001b[0;34m)\u001b[0m\u001b[0;34m\u001b[0m\u001b[0;34m\u001b[0m\u001b[0m\n",
            "\u001b[0;31mTypeError\u001b[0m: 'tuple' object does not support item assignment"
          ]
        }
      ]
    },
    {
      "cell_type": "markdown",
      "source": [
        "6. Write a function to demonstrate the behavior of mutable and immutable arguments."
      ],
      "metadata": {
        "id": "ZDUCy7S80W2l"
      }
    },
    {
      "cell_type": "code",
      "source": [
        "def demo_mutable_immutable(a, b, c):\n",
        "    # a is an integer (immutable)\n",
        "    # b is a list (mutable)\n",
        "    # c is a string (immutable)\n",
        "\n",
        "    print(\"Initial values:\")\n",
        "    print(f\"a = {a}, b = {b}, c = {c}\")\n",
        "\n",
        "    # Trying to modify the arguments\n",
        "    a += 1\n",
        "    b.append(4)\n",
        "    c += \" World\"\n",
        "\n",
        "    print(\"\\nAfter modification:\")\n",
        "    print(f\"a = {a}, b = {b}, c = {c}\")\n",
        "\n",
        "# Testing the function\n",
        "a = 1\n",
        "b = [1, 2, 3]\n",
        "c = \"Hello\"\n",
        "\n",
        "print(\"Before function call:\")\n",
        "print(f\"a = {a}, b = {b}, c = {c}\")\n",
        "\n",
        "demo_mutable_immutable(a, b, c)\n",
        "\n",
        "print(\"\\nAfter function call:\")\n",
        "print(f\"a = {a}, b = {b}, c = {c}\")\n"
      ],
      "metadata": {
        "id": "6kD9q27p9M0R",
        "colab": {
          "base_uri": "https://localhost:8080/"
        },
        "outputId": "33070841-7860-428a-ac92-5cf9a6c5b7ec"
      },
      "execution_count": null,
      "outputs": [
        {
          "output_type": "stream",
          "name": "stdout",
          "text": [
            "Before function call:\n",
            "a = 1, b = [1, 2, 3], c = Hello\n",
            "Initial values:\n",
            "a = 1, b = [1, 2, 3], c = Hello\n",
            "\n",
            "After modification:\n",
            "a = 2, b = [1, 2, 3, 4], c = Hello World\n",
            "\n",
            "After function call:\n",
            "a = 1, b = [1, 2, 3, 4], c = Hello\n"
          ]
        }
      ]
    },
    {
      "cell_type": "markdown",
      "source": [
        "7.  Write a program that performs basic arithmetic operations on two user-input numbers."
      ],
      "metadata": {
        "id": "rCtqzeD8wb46"
      }
    },
    {
      "cell_type": "code",
      "source": [
        "num1 = int(input(\"Enter a first number: \"))\n",
        "num2 = int(input(\"Enter a second number: \"))\n",
        "print(f\"Addition of {num1} and {num2} is {num1 + num2}\")\n",
        "print(f\"Subtraction of {num1} and {num2} is {num1 - num2}\")\n",
        "print(f\"Multiplication of {num1} and {num2} is {num1 * num2}\")\n",
        "print(f\"Division of {num1} and {num2} is {num1 / num2}\")\n"
      ],
      "metadata": {
        "colab": {
          "base_uri": "https://localhost:8080/"
        },
        "id": "nSEVmqf3weqY",
        "outputId": "165090c2-d808-4cbd-91c9-35a853dc4cab"
      },
      "execution_count": null,
      "outputs": [
        {
          "output_type": "stream",
          "name": "stdout",
          "text": [
            "Enter a first number: 50\n",
            "Enter a second number: 5\n",
            "Addition of 50 and 5 is 55\n",
            "Subtraction of 50 and 5 is 45\n",
            "Multiplication of 50 and 5 is 250\n",
            "Division of 50 and 5 is 10.0\n"
          ]
        }
      ]
    },
    {
      "cell_type": "markdown",
      "source": [
        "8. Write a program to demonstrate the use of logical operators."
      ],
      "metadata": {
        "id": "AueSOLFlxV3f"
      }
    },
    {
      "cell_type": "code",
      "source": [
        "age = int(input(\"Enter your age: \"))\n",
        "id = input(\"Do you have a valid ID (yes/no): \")\n",
        "if age >= 18 and id == \"yes\": # Use of  AND operator\n",
        "  print(\"You are eligible for voting\")\n",
        "else:\n",
        "  print(\"You are not eligible for voting\")\n",
        "\n",
        "if age >= 18 or id == \"yes\": # Use of OR operator\n",
        "  print(\"You are eligible for Examination\")\n",
        "else:\n",
        "  print(\"You are not eligible for Examination\")\n",
        "\n",
        "if not age >= 18: # Use of NOT operator\n",
        "  print(\"You are not eligible for voting\")"
      ],
      "metadata": {
        "colab": {
          "base_uri": "https://localhost:8080/"
        },
        "id": "BCEcKskwxVWv",
        "outputId": "c195f3d7-8912-4cc9-a001-d267e28d2962"
      },
      "execution_count": null,
      "outputs": [
        {
          "output_type": "stream",
          "name": "stdout",
          "text": [
            "Enter your age: 12\n",
            "Do you have a valid ID (yes/no): yes\n",
            "You are not eligible for voting\n",
            "You are eligible for Examination\n",
            "You are not eligible for voting\n"
          ]
        }
      ]
    },
    {
      "cell_type": "markdown",
      "source": [
        "9. Write a Python program to convert user input from string to integer, float, and boolean types"
      ],
      "metadata": {
        "id": "BPLzmNRzztAk"
      }
    },
    {
      "cell_type": "code",
      "source": [
        "user = input(\"Enter a value: \")\n",
        "print(type(user))\n",
        "print(\"Converting string to Integer\")\n",
        "print(int(user), type(int(user)))\n",
        "print(\"Converting string to Float\")\n",
        "print(float(user), type(float(user)))\n",
        "print(\"Converting string to Boolean\")\n",
        "print(bool(user),  type(bool(user)))\n"
      ],
      "metadata": {
        "colab": {
          "base_uri": "https://localhost:8080/"
        },
        "id": "VEloEkVJ2R9H",
        "outputId": "82214a71-0580-4f87-d761-e37248a8fdea"
      },
      "execution_count": null,
      "outputs": [
        {
          "output_type": "stream",
          "name": "stdout",
          "text": [
            "Enter a value: 678\n",
            "<class 'str'>\n",
            "Converting string to Integer\n",
            "678 <class 'int'>\n",
            "Converting string to Float\n",
            "678.0 <class 'float'>\n",
            "Converting string to Boolean\n",
            "True <class 'bool'>\n"
          ]
        }
      ]
    },
    {
      "cell_type": "markdown",
      "source": [
        "10. Write code to demonstrate type casting with list elements."
      ],
      "metadata": {
        "id": "F2IvtDgE6H-t"
      }
    },
    {
      "cell_type": "code",
      "source": [
        "list = [ \"12\", \"56\", \"58\", \"23\", \"0\"]\n",
        "print(list)\n",
        "print(type(list[i]))\n",
        "for i in range(len(list)):\n",
        "  list[i] = int(list[i])\n",
        "print(\"Coverting elements of list from str to int\")\n",
        "print(list, type(list[i]))\n",
        "\n",
        "for i in range(len(list)):\n",
        "  list[i] = float(list[i])\n",
        "print(\"Coverting elements of list from str to float\")\n",
        "print(list, type(list[i]))\n",
        "\n",
        "for i in range(len(list)):\n",
        "  list[i] = bool(list[i])\n",
        "print(\"Coverting elements of list from str to Boolean\")\n",
        "print(list, type(list[i]))\n",
        "\n"
      ],
      "metadata": {
        "colab": {
          "base_uri": "https://localhost:8080/"
        },
        "id": "SFulVenC6Qru",
        "outputId": "a807a7c0-a0e3-4517-aac6-e0dd8d721265"
      },
      "execution_count": null,
      "outputs": [
        {
          "output_type": "stream",
          "name": "stdout",
          "text": [
            "['12', '56', '58', '23', '0']\n",
            "<class 'str'>\n",
            "Coverting elements of list from str to int\n",
            "[12, 56, 58, 23, 0] <class 'int'>\n",
            "Coverting elements of list from str to float\n",
            "[12.0, 56.0, 58.0, 23.0, 0.0] <class 'float'>\n",
            "Coverting elements of list from str to Boolean\n",
            "[True, True, True, True, False] <class 'bool'>\n"
          ]
        }
      ]
    },
    {
      "cell_type": "markdown",
      "source": [
        "11. Write a program that checks if a number is positive, negative, or zero."
      ],
      "metadata": {
        "id": "j2hvtOgE8VcA"
      }
    },
    {
      "cell_type": "code",
      "source": [
        "num = int(input(\"Enter a number: \"))\n",
        "if num > 0:\n",
        "  print(\"Number is positive\")\n",
        "elif num < 0:\n",
        "  print(\"Number is negative\")\n",
        "else:\n",
        "  print(\"Number is Zero\")"
      ],
      "metadata": {
        "colab": {
          "base_uri": "https://localhost:8080/"
        },
        "id": "OklRlGyH8iIQ",
        "outputId": "a5256c94-7366-463c-d45f-fbdd7cc06c98"
      },
      "execution_count": null,
      "outputs": [
        {
          "output_type": "stream",
          "name": "stdout",
          "text": [
            "Enter a number: -8\n",
            "Number is negative\n"
          ]
        }
      ]
    },
    {
      "cell_type": "markdown",
      "source": [
        "12.  Write a for loop to print numbers from 1 to 10."
      ],
      "metadata": {
        "id": "BHwkt1s59JZY"
      }
    },
    {
      "cell_type": "code",
      "source": [
        "for i in range (1,11):\n",
        "  print(i)\n"
      ],
      "metadata": {
        "colab": {
          "base_uri": "https://localhost:8080/"
        },
        "id": "lOEiAlDx9R1-",
        "outputId": "796d6067-24d6-46ae-e7f4-5ae36844df92"
      },
      "execution_count": null,
      "outputs": [
        {
          "output_type": "stream",
          "name": "stdout",
          "text": [
            "1\n",
            "2\n",
            "3\n",
            "4\n",
            "5\n",
            "6\n",
            "7\n",
            "8\n",
            "9\n",
            "10\n"
          ]
        }
      ]
    },
    {
      "cell_type": "markdown",
      "source": [
        "13. Write a Python program to find the sum of all even numbers between 1 and 50."
      ],
      "metadata": {
        "id": "JM66_zQM9qj9"
      }
    },
    {
      "cell_type": "code",
      "source": [
        "sum = 0\n",
        "for i in range(1,51):\n",
        "  if i % 2 == 0:\n",
        "    print(i, end=\" \")\n",
        "    sum = sum + i\n",
        "print(\"Sum of even no. is \", sum)"
      ],
      "metadata": {
        "colab": {
          "base_uri": "https://localhost:8080/"
        },
        "id": "MxKWqg6O90Rk",
        "outputId": "6086347f-152d-4f0e-f631-250aecf00b90"
      },
      "execution_count": null,
      "outputs": [
        {
          "output_type": "stream",
          "name": "stdout",
          "text": [
            "2 4 6 8 10 12 14 16 18 20 22 24 26 28 30 32 34 36 38 40 42 44 46 48 50 Sum of even no. is  650\n"
          ]
        }
      ]
    },
    {
      "cell_type": "markdown",
      "source": [
        "14.  Write a program to reverse a string using a while loop."
      ],
      "metadata": {
        "id": "jH4BPl56_g4p"
      }
    },
    {
      "cell_type": "code",
      "source": [
        "word = \"HelloWorld\"\n",
        "\n",
        "i = len(word) - 1\n",
        "reversed_str = \"\"\n",
        "\n",
        "while i >= 0:\n",
        "    reversed_str += word[i]\n",
        "    i -= 1\n",
        "\n",
        "print(\"Original String:\", word)\n",
        "print(\"Reversed String:\", reversed_str)\n"
      ],
      "metadata": {
        "colab": {
          "base_uri": "https://localhost:8080/"
        },
        "id": "J3J9O4u0_s69",
        "outputId": "0c94712a-d31b-4f34-e894-5a44b84ec893"
      },
      "execution_count": null,
      "outputs": [
        {
          "output_type": "stream",
          "name": "stdout",
          "text": [
            "Original String: HelloWorld\n",
            "Reversed String: dlroWolleH\n"
          ]
        }
      ]
    },
    {
      "cell_type": "markdown",
      "source": [
        "15. Write a Python program to calculate the factorial of a number provided by the user using a while loop."
      ],
      "metadata": {
        "id": "ocA2eFLSBcEo"
      }
    },
    {
      "cell_type": "code",
      "source": [
        "n = int(input(\"Enter a number: \"))\n",
        "f = 1\n",
        "for i in range(1,n+1):\n",
        "  f = f *i\n",
        "print(\"factorial of given no. is \",f)"
      ],
      "metadata": {
        "colab": {
          "base_uri": "https://localhost:8080/"
        },
        "id": "sDJnYAPDBeAH",
        "outputId": "90aac17f-51c0-4195-9030-f858283f6ae2"
      },
      "execution_count": null,
      "outputs": [
        {
          "output_type": "stream",
          "name": "stdout",
          "text": [
            "Enter a number: 6\n",
            "factorial of given no. is  720\n"
          ]
        }
      ]
    }
  ]
}