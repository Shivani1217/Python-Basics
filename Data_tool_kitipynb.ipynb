{
  "nbformat": 4,
  "nbformat_minor": 0,
  "metadata": {
    "colab": {
      "provenance": []
    },
    "kernelspec": {
      "name": "python3",
      "display_name": "Python 3"
    },
    "language_info": {
      "name": "python"
    }
  },
  "cells": [
    {
      "cell_type": "markdown",
      "source": [
        "# Data ToolKit Assingnment"
      ],
      "metadata": {
        "id": "u3RqZ00L4tgJ"
      }
    },
    {
      "cell_type": "markdown",
      "source": [
        "1. What is the difference between multithreading and multiprocessing?\n",
        "- Independence: In multiprocessing, each process has its own memory space and resources. Processes are independent of each\n",
        "other, and communication between them requires explicit IPC mechanisms.\n",
        "In multithreading, multiple threads share the same memory space within a single process. Threads are lighter weight than processes and share resources more easily.\n",
        "- Communication: Multiprocessing relies on IPC for communication between processes. This can involve message passing, shared\n",
        "memory, or other communication mechanisms.\n",
        "Multithreading involves sharing data more directly since threads within the same process share the same memory space.\n",
        "- Fault Isolation: Processes in multiprocessing are more isolated, providing better fault isolation. If one process crashes, it does\n",
        "not necessarily affect others. Threads in multithreading share the same memory space, making them more susceptible to issues such as data corruption or unintended interactions.\n",
        "- Resource Utilization:Multiprocessing can take advantage of multiple CPU cores, as each process can run on a separate core.\n",
        "Multithreading is suitable for tasks that can be parallelized within a single process but may not fully utilize multiple cores.\n",
        "- Distributed Computing: Multiprocessing is fundamental in distributed computing, where tasks are distributed across multiple nodes or machines. Each node runs its processes, and communication between them is vital for collaborative computation."
      ],
      "metadata": {
        "id": "w6ebqHb340Up"
      }
    },
    {
      "cell_type": "markdown",
      "source": [
        "2. What are the challenges associated with memory management in Python?\n",
        "- Reference Cycles: Python uses reference counting to track object usage. If two or more objects reference each other, they form a cycle, which prevents automatic deletion even if they’re no longer in use. The garbage collector can detect such cycles, but it adds extra overhead and doesn’t always handle complex cases efficiently.\n",
        "- Memory Leaks: Improper handling of references (like keeping unnecessary references in global variables, caches, or data structures) can cause memory leaks. Memory leaks slowly increase memory usage over time and can make long-running applications slow or unstable.\n",
        "- Fragmentation: Python’s memory allocator (especially in CPython) can lead to heap fragmentation, where free memory becomes scattered. This reduces memory efficiency and can cause the program to use more system memory than needed.\n",
        "- Large Object Handling: Python struggles with very large objects (e.g., big data arrays or nested structures) because,They take time to allocate and free.They may not fit in contiguous memory. Reference counting increases overhead when copying or passing such objects around."
      ],
      "metadata": {
        "id": "PjY_FKnM6npp"
      }
    },
    {
      "cell_type": "markdown",
      "source": [
        "3. Write a Python program that logs an error message to a log file when a\n",
        "division by zero exception occurs."
      ],
      "metadata": {
        "id": "UAS9WtuJ8gm3"
      }
    },
    {
      "cell_type": "code",
      "execution_count": 1,
      "metadata": {
        "colab": {
          "base_uri": "https://localhost:8080/"
        },
        "id": "lPurXiDU3320",
        "outputId": "3b7a9855-4a5a-49ba-ea97-a76ea1833142"
      },
      "outputs": [
        {
          "output_type": "stream",
          "name": "stderr",
          "text": [
            "ERROR:root:Division by zero error occurred: division by zero\n"
          ]
        },
        {
          "output_type": "stream",
          "name": "stdout",
          "text": [
            "An error occurred! Check 'error.log' for details.\n"
          ]
        }
      ],
      "source": [
        "import logging\n",
        "\n",
        "logging.basicConfig(\n",
        "    filename='error.log',        # Log file name\n",
        "    level=logging.ERROR,         # Log only errors and above\n",
        "    format='%(asctime)s - %(levelname)s - %(message)s'\n",
        ")\n",
        "\n",
        "try:\n",
        "    a = 10\n",
        "    b = 0\n",
        "    c = a / b\n",
        "\n",
        "except ZeroDivisionError as e:\n",
        "    # Log the error message\n",
        "    logging.error(\"Division by zero error occurred: %s\", e)\n",
        "    print(\"An error occurred! Check 'error.log' for details.\")\n"
      ]
    },
    {
      "cell_type": "markdown",
      "source": [
        "4. Write a Python program that reads from one file and writes its content to another file."
      ],
      "metadata": {
        "id": "eUm-yDl7-Lp1"
      }
    },
    {
      "cell_type": "code",
      "source": [
        "def copy_file(source_file, destination_file):\n",
        "    try:\n",
        "        # Open source file in read mode\n",
        "        with open(source_file, 'r') as source:\n",
        "            content = source.read()\n",
        "\n",
        "        # Open destination file in write mode\n",
        "        with open(destination_file, 'w') as destination:\n",
        "            destination.write(content)\n",
        "\n",
        "        print(f\"Content copied from {source_file} to {destination_file} successfully.\")\n",
        "\n",
        "    except FileNotFoundError:\n",
        "        print(f\"Error: File {source_file} not found.\")\n",
        "    except Exception as e:\n",
        "        print(f\"An error occurred: {e}\")"
      ],
      "metadata": {
        "id": "RJ9RUCQePBED"
      },
      "execution_count": 2,
      "outputs": []
    },
    {
      "cell_type": "markdown",
      "source": [
        " 5: Write a program that handles both IndexError and KeyError using a\n",
        "try-except block."
      ],
      "metadata": {
        "id": "miF5GJxpLmEX"
      }
    },
    {
      "cell_type": "code",
      "source": [
        "try:\n",
        "    # Example list and dictionary\n",
        "    numbers = [10, 20, 30]\n",
        "    data = {\"name\": \"Shivani\", \"age\": 21}\n",
        "\n",
        "    # Intentionally causing IndexError\n",
        "    print(numbers[5])  # Invalid index\n",
        "\n",
        "    # Intentionally causing KeyError\n",
        "    print(data[\"address\"])  # Key doesn't exist\n",
        "\n",
        "except IndexError:\n",
        "    print(\"Error: You tried to access an index that does not exist in the list.\")\n",
        "\n",
        "except KeyError:\n",
        "    print(\"Error: You tried to access a key that does not exist in the dictionary.\")\n",
        "\n",
        "print(\"Program continues after handling the exceptions.\")"
      ],
      "metadata": {
        "colab": {
          "base_uri": "https://localhost:8080/"
        },
        "id": "mi0ZTw4jSf4E",
        "outputId": "a6640e13-e035-416c-de35-c314f0e3d73b"
      },
      "execution_count": 3,
      "outputs": [
        {
          "output_type": "stream",
          "name": "stdout",
          "text": [
            "Error: You tried to access an index that does not exist in the list.\n",
            "Program continues after handling the exceptions.\n"
          ]
        }
      ]
    },
    {
      "cell_type": "markdown",
      "source": [
        " 6: What are the differences between NumPy arrays and Python lists?\n",
        "\n",
        "NumPy Arrays vs Python Lists\n",
        "NumPy arrays and Python lists are both used for storing collections of data, but they have key differences that make them suitable for different use cases.\n",
        "\n",
        "1. Data Type\n",
        "- NumPy Arrays: Homogeneous - all elements must be of the same data type (e.g., all integers, all floats).\n",
        "- Python Lists: Heterogeneous - can store elements of different data types (e.g., integers, strings, objects).\n",
        "\n",
        "2. Performance\n",
        "- NumPy Arrays: Generally faster for numerical computations due to vectorized operations and optimized C code underneath.\n",
        "- Python Lists: Slower for large-scale numerical operations as they're more general-purpose.\n",
        "\n",
        "3. Memory\n",
        "- NumPy Arrays: More memory-efficient for large numerical data due to compact storage and homogeneous types.\n",
        "- Python Lists: Can be less memory-efficient, especially for large numerical datasets.\n",
        "\n",
        "4. Operations\n",
        "- NumPy Arrays: Support element-wise operations (+, -, *, etc.) naturally (vectorized).\n",
        "\n",
        "import numpy as np\n",
        "a = np.array([1, 2, 3])\n",
        "b = np.array([4, 5, 6])\n",
        "print(a + b)  # [5 7 9]\n",
        "- Python Lists: Need loops or list comprehensions for element-wise operations.\n",
        "\n",
        "a = [1, 2, 3]\n",
        "b = [4, 5, 6]\n",
        "print([x + y for x, y in zip(a, b)])  # [5, 7, 9]\n",
        "\n",
        "\n",
        "5. Dimensions\n",
        "- NumPy Arrays: Multi-dimensional arrays are a core feature (ndarray).\n",
        "- Python Lists: Can be nested for multi-dimensional structures but less convenient for numerical matrix operations.\n",
        "\n",
        "6. Functions & Ecosystem\n",
        "- NumPy Arrays: Part of SciPy ecosystem, great for scientific computing, linear algebra (np.linalg), etc.\n",
        "- Python Lists: General-purpose, lots of built-in methods (append, extend, etc.).\n",
        "\n",
        "7. Indexing & Slicing\n",
        "- Both support indexing and slicing, but NumPy's is powerful for multi-dimensional data.\n",
        "\n",
        "arr = np.array([[1, 2], [3, 4]])\n",
        "print(arr[:, 1])  # [2 4]\n",
        "Use Cases\n",
        "- NumPy arrays: Numerical computations, scientific computing, image processing, data analysis (with Pandas).\n",
        "- Python lists: General data storage, heterogeneous collections, when flexibility in data types is needed."
      ],
      "metadata": {
        "id": "w5QEir1cTsFC"
      }
    },
    {
      "cell_type": "markdown",
      "source": [
        "7. Explain the difference between apply() and map() in Pandas.\n",
        "- map() :-  Map Used with a Series (one-dimensional data). Purpose of using map() is Applies a function, dictionary, or mapping to each element in the Series.\n",
        "- apply() :- apply () Used with a DataFrame or Series.Purpose of using this for Applies a function along an axis (rows or columns) for a DataFrame, or element-wise for a Series."
      ],
      "metadata": {
        "id": "EryYbs1IrJPh"
      }
    },
    {
      "cell_type": "markdown",
      "source": [
        " 8: Create a histogram using Seaborn to visualize a distribution.\n"
      ],
      "metadata": {
        "id": "-r1PHXCKVvbR"
      }
    },
    {
      "cell_type": "code",
      "source": [
        "# Import required libraries\n",
        "import seaborn as sns\n",
        "import matplotlib.pyplot as plt\n",
        "\n",
        "# Load a sample dataset\n",
        "data = sns.load_dataset(\"iris\")\n",
        "\n",
        "# Create a histogram of the 'sepal_length' column\n",
        "sns.histplot(data['sepal_length'], bins=10, kde=True, color='skyblue')\n",
        "\n",
        "# Add title and labels\n",
        "plt.title(\"Distribution of Sepal Length in Iris Dataset\")\n",
        "plt.xlabel(\"Sepal Length (cm)\")\n",
        "plt.ylabel(\"Frequency\")\n",
        "\n",
        "# Show the plot\n",
        "plt.show()"
      ],
      "metadata": {
        "id": "X1Eag9rOWXFF"
      },
      "execution_count": null,
      "outputs": []
    },
    {
      "cell_type": "code",
      "source": [
        "#firstly I created a csv file\n",
        "import pandas as pd\n",
        "\n",
        "# Create some sample data\n",
        "data = {\n",
        "    'Name': ['shyam', 'Ravi', 'Priya', 'Aman', 'Neha', 'Rahul'],\n",
        "    'Age': [21, 23, 22, 24, 20, 25],\n",
        "    'City': ['Delhi', 'Mumbai', 'Chennai', 'Pune', 'Kolkata', 'Bangalore']\n",
        "}\n",
        "\n",
        "# Convert data into a DataFrame\n",
        "df = pd.DataFrame(data)\n",
        "\n",
        "# Save the DataFrame as a CSV file\n",
        "df.to_csv('students.csv', index=False)\n",
        "\n",
        "print(\"✅ 'students.csv' file has been created successfully!\")"
      ],
      "metadata": {
        "id": "yXv_20EcrROI"
      },
      "execution_count": null,
      "outputs": []
    },
    {
      "cell_type": "markdown",
      "source": [
        " 9: Use Pandas to load a CSV file and display its first 5 rows"
      ],
      "metadata": {
        "id": "75gjb_Q0ryWG"
      }
    },
    {
      "cell_type": "code",
      "source": [
        "import pandas as pd\n",
        "\n",
        "data = pd.read_csv('students.csv')\n",
        "\n",
        "print(data.head())"
      ],
      "metadata": {
        "id": "9VImAioKrX6e"
      },
      "execution_count": null,
      "outputs": []
    },
    {
      "cell_type": "markdown",
      "source": [
        " 10: Calculate the correlation matrix using Seaborn and visualize it with a\n",
        "heatmap.\n"
      ],
      "metadata": {
        "id": "u5kb4vx8r1nN"
      }
    },
    {
      "cell_type": "code",
      "source": [
        "import pandas as pd\n",
        "import seaborn as sns\n",
        "import matplotlib.pyplot as plt\n",
        "\n",
        "# Create sample data\n",
        "data = {\n",
        "    'Maths': [78, 85, 96, 80, 86, 90],\n",
        "    'Science': [84, 95, 92, 75, 89, 91],\n",
        "    'English': [70, 88, 82, 78, 85, 87],\n",
        "    'History': [65, 76, 80, 70, 72, 75]\n",
        "}\n",
        "\n",
        "# Convert to DataFrame\n",
        "df = pd.DataFrame(data)\n",
        "\n",
        "# Step 1: Calculate correlation matrix\n",
        "corr_matrix = df.corr()\n",
        "\n",
        "# Step 2: Visualize using Seaborn heatmap\n",
        "sns.heatmap(corr_matrix, annot=True, cmap='coolwarm', linewidths=0.5)\n",
        "\n",
        "# Step 3: Show plot\n",
        "plt.title('Correlation Matrix Heatmap')\n",
        "plt.show()\n"
      ],
      "metadata": {
        "id": "38xV1mm5rbhe"
      },
      "execution_count": null,
      "outputs": []
    }
  ]
}